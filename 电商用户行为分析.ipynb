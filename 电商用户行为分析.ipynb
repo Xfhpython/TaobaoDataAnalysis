{
 "cells": [
  {
   "cell_type": "code",
   "execution_count": 1,
   "id": "7aa38b00-769b-4c18-9ff8-4a1c204033bf",
   "metadata": {},
   "outputs": [],
   "source": [
    "import pandas as pd\n",
    "import matplotlib.pyplot as plt\n",
    "import seaborn as sns \n",
    "import numpy as np\n",
    "\n",
    "sns.set_theme()\n",
    "sns.set_context('notebook')"
   ]
  },
  {
   "cell_type": "markdown",
   "id": "6df892a3-3485-484b-97ae-fae0465a9fe9",
   "metadata": {},
   "source": [
    "## 数据预处理"
   ]
  },
  {
   "cell_type": "code",
   "execution_count": 2,
   "id": "42537003-384d-483d-a4e8-31dd85ce8cf6",
   "metadata": {},
   "outputs": [
    {
     "data": {
      "text/html": [
       "<div>\n",
       "<style scoped>\n",
       "    .dataframe tbody tr th:only-of-type {\n",
       "        vertical-align: middle;\n",
       "    }\n",
       "\n",
       "    .dataframe tbody tr th {\n",
       "        vertical-align: top;\n",
       "    }\n",
       "\n",
       "    .dataframe thead th {\n",
       "        text-align: right;\n",
       "    }\n",
       "</style>\n",
       "<table border=\"1\" class=\"dataframe\">\n",
       "  <thead>\n",
       "    <tr style=\"text-align: right;\">\n",
       "      <th></th>\n",
       "      <th>user_id</th>\n",
       "      <th>item_id</th>\n",
       "      <th>behavior_type</th>\n",
       "      <th>user_geohash</th>\n",
       "      <th>item_category</th>\n",
       "      <th>time</th>\n",
       "    </tr>\n",
       "  </thead>\n",
       "  <tbody>\n",
       "    <tr>\n",
       "      <th>0</th>\n",
       "      <td>98047837</td>\n",
       "      <td>232431562</td>\n",
       "      <td>1</td>\n",
       "      <td>NaN</td>\n",
       "      <td>4245</td>\n",
       "      <td>2014-12-06 02</td>\n",
       "    </tr>\n",
       "    <tr>\n",
       "      <th>1</th>\n",
       "      <td>97726136</td>\n",
       "      <td>383583590</td>\n",
       "      <td>1</td>\n",
       "      <td>NaN</td>\n",
       "      <td>5894</td>\n",
       "      <td>2014-12-09 20</td>\n",
       "    </tr>\n",
       "    <tr>\n",
       "      <th>2</th>\n",
       "      <td>98607707</td>\n",
       "      <td>64749712</td>\n",
       "      <td>1</td>\n",
       "      <td>NaN</td>\n",
       "      <td>2883</td>\n",
       "      <td>2014-12-18 11</td>\n",
       "    </tr>\n",
       "    <tr>\n",
       "      <th>3</th>\n",
       "      <td>98662432</td>\n",
       "      <td>320593836</td>\n",
       "      <td>1</td>\n",
       "      <td>96nn52n</td>\n",
       "      <td>6562</td>\n",
       "      <td>2014-12-06 10</td>\n",
       "    </tr>\n",
       "    <tr>\n",
       "      <th>4</th>\n",
       "      <td>98145908</td>\n",
       "      <td>290208520</td>\n",
       "      <td>1</td>\n",
       "      <td>NaN</td>\n",
       "      <td>13926</td>\n",
       "      <td>2014-12-16 21</td>\n",
       "    </tr>\n",
       "    <tr>\n",
       "      <th>...</th>\n",
       "      <td>...</td>\n",
       "      <td>...</td>\n",
       "      <td>...</td>\n",
       "      <td>...</td>\n",
       "      <td>...</td>\n",
       "      <td>...</td>\n",
       "    </tr>\n",
       "    <tr>\n",
       "      <th>12256901</th>\n",
       "      <td>93812622</td>\n",
       "      <td>378365755</td>\n",
       "      <td>1</td>\n",
       "      <td>95q6d6a</td>\n",
       "      <td>11</td>\n",
       "      <td>2014-12-13 21</td>\n",
       "    </tr>\n",
       "    <tr>\n",
       "      <th>12256902</th>\n",
       "      <td>93812622</td>\n",
       "      <td>177724753</td>\n",
       "      <td>1</td>\n",
       "      <td>NaN</td>\n",
       "      <td>12311</td>\n",
       "      <td>2014-12-14 21</td>\n",
       "    </tr>\n",
       "    <tr>\n",
       "      <th>12256903</th>\n",
       "      <td>93812622</td>\n",
       "      <td>234391443</td>\n",
       "      <td>1</td>\n",
       "      <td>NaN</td>\n",
       "      <td>8765</td>\n",
       "      <td>2014-12-11 16</td>\n",
       "    </tr>\n",
       "    <tr>\n",
       "      <th>12256904</th>\n",
       "      <td>93812622</td>\n",
       "      <td>26452000</td>\n",
       "      <td>1</td>\n",
       "      <td>95q6dqc</td>\n",
       "      <td>7951</td>\n",
       "      <td>2014-12-08 22</td>\n",
       "    </tr>\n",
       "    <tr>\n",
       "      <th>12256905</th>\n",
       "      <td>108404535</td>\n",
       "      <td>362699797</td>\n",
       "      <td>1</td>\n",
       "      <td>NaN</td>\n",
       "      <td>9847</td>\n",
       "      <td>2014-12-03 19</td>\n",
       "    </tr>\n",
       "  </tbody>\n",
       "</table>\n",
       "<p>12256906 rows × 6 columns</p>\n",
       "</div>"
      ],
      "text/plain": [
       "            user_id    item_id  behavior_type user_geohash  item_category  \\\n",
       "0          98047837  232431562              1          NaN           4245   \n",
       "1          97726136  383583590              1          NaN           5894   \n",
       "2          98607707   64749712              1          NaN           2883   \n",
       "3          98662432  320593836              1      96nn52n           6562   \n",
       "4          98145908  290208520              1          NaN          13926   \n",
       "...             ...        ...            ...          ...            ...   \n",
       "12256901   93812622  378365755              1      95q6d6a             11   \n",
       "12256902   93812622  177724753              1          NaN          12311   \n",
       "12256903   93812622  234391443              1          NaN           8765   \n",
       "12256904   93812622   26452000              1      95q6dqc           7951   \n",
       "12256905  108404535  362699797              1          NaN           9847   \n",
       "\n",
       "                   time  \n",
       "0         2014-12-06 02  \n",
       "1         2014-12-09 20  \n",
       "2         2014-12-18 11  \n",
       "3         2014-12-06 10  \n",
       "4         2014-12-16 21  \n",
       "...                 ...  \n",
       "12256901  2014-12-13 21  \n",
       "12256902  2014-12-14 21  \n",
       "12256903  2014-12-11 16  \n",
       "12256904  2014-12-08 22  \n",
       "12256905  2014-12-03 19  \n",
       "\n",
       "[12256906 rows x 6 columns]"
      ]
     },
     "execution_count": 2,
     "metadata": {},
     "output_type": "execute_result"
    }
   ],
   "source": [
    "# 读取数据\n",
    "df=pd.read_csv(\"taobao.csv\")\n",
    "df"
   ]
  },
  {
   "cell_type": "code",
   "execution_count": 3,
   "id": "7c9c212d-92e1-451f-8a77-801ba60eea1a",
   "metadata": {},
   "outputs": [
    {
     "data": {
      "text/html": [
       "<div>\n",
       "<style scoped>\n",
       "    .dataframe tbody tr th:only-of-type {\n",
       "        vertical-align: middle;\n",
       "    }\n",
       "\n",
       "    .dataframe tbody tr th {\n",
       "        vertical-align: top;\n",
       "    }\n",
       "\n",
       "    .dataframe thead th {\n",
       "        text-align: right;\n",
       "    }\n",
       "</style>\n",
       "<table border=\"1\" class=\"dataframe\">\n",
       "  <thead>\n",
       "    <tr style=\"text-align: right;\">\n",
       "      <th></th>\n",
       "      <th>user_id</th>\n",
       "      <th>item_id</th>\n",
       "      <th>behavior_type</th>\n",
       "      <th>item_category</th>\n",
       "      <th>time</th>\n",
       "      <th>date</th>\n",
       "      <th>hour</th>\n",
       "    </tr>\n",
       "  </thead>\n",
       "  <tbody>\n",
       "    <tr>\n",
       "      <th>0</th>\n",
       "      <td>98047837</td>\n",
       "      <td>232431562</td>\n",
       "      <td>1</td>\n",
       "      <td>4245</td>\n",
       "      <td>2014-12-06 02</td>\n",
       "      <td>2014-12-06</td>\n",
       "      <td>02</td>\n",
       "    </tr>\n",
       "    <tr>\n",
       "      <th>1</th>\n",
       "      <td>97726136</td>\n",
       "      <td>383583590</td>\n",
       "      <td>1</td>\n",
       "      <td>5894</td>\n",
       "      <td>2014-12-09 20</td>\n",
       "      <td>2014-12-09</td>\n",
       "      <td>20</td>\n",
       "    </tr>\n",
       "    <tr>\n",
       "      <th>2</th>\n",
       "      <td>98607707</td>\n",
       "      <td>64749712</td>\n",
       "      <td>1</td>\n",
       "      <td>2883</td>\n",
       "      <td>2014-12-18 11</td>\n",
       "      <td>2014-12-18</td>\n",
       "      <td>11</td>\n",
       "    </tr>\n",
       "    <tr>\n",
       "      <th>3</th>\n",
       "      <td>98662432</td>\n",
       "      <td>320593836</td>\n",
       "      <td>1</td>\n",
       "      <td>6562</td>\n",
       "      <td>2014-12-06 10</td>\n",
       "      <td>2014-12-06</td>\n",
       "      <td>10</td>\n",
       "    </tr>\n",
       "    <tr>\n",
       "      <th>4</th>\n",
       "      <td>98145908</td>\n",
       "      <td>290208520</td>\n",
       "      <td>1</td>\n",
       "      <td>13926</td>\n",
       "      <td>2014-12-16 21</td>\n",
       "      <td>2014-12-16</td>\n",
       "      <td>21</td>\n",
       "    </tr>\n",
       "    <tr>\n",
       "      <th>...</th>\n",
       "      <td>...</td>\n",
       "      <td>...</td>\n",
       "      <td>...</td>\n",
       "      <td>...</td>\n",
       "      <td>...</td>\n",
       "      <td>...</td>\n",
       "      <td>...</td>\n",
       "    </tr>\n",
       "    <tr>\n",
       "      <th>12256901</th>\n",
       "      <td>93812622</td>\n",
       "      <td>378365755</td>\n",
       "      <td>1</td>\n",
       "      <td>11</td>\n",
       "      <td>2014-12-13 21</td>\n",
       "      <td>2014-12-13</td>\n",
       "      <td>21</td>\n",
       "    </tr>\n",
       "    <tr>\n",
       "      <th>12256902</th>\n",
       "      <td>93812622</td>\n",
       "      <td>177724753</td>\n",
       "      <td>1</td>\n",
       "      <td>12311</td>\n",
       "      <td>2014-12-14 21</td>\n",
       "      <td>2014-12-14</td>\n",
       "      <td>21</td>\n",
       "    </tr>\n",
       "    <tr>\n",
       "      <th>12256903</th>\n",
       "      <td>93812622</td>\n",
       "      <td>234391443</td>\n",
       "      <td>1</td>\n",
       "      <td>8765</td>\n",
       "      <td>2014-12-11 16</td>\n",
       "      <td>2014-12-11</td>\n",
       "      <td>16</td>\n",
       "    </tr>\n",
       "    <tr>\n",
       "      <th>12256904</th>\n",
       "      <td>93812622</td>\n",
       "      <td>26452000</td>\n",
       "      <td>1</td>\n",
       "      <td>7951</td>\n",
       "      <td>2014-12-08 22</td>\n",
       "      <td>2014-12-08</td>\n",
       "      <td>22</td>\n",
       "    </tr>\n",
       "    <tr>\n",
       "      <th>12256905</th>\n",
       "      <td>108404535</td>\n",
       "      <td>362699797</td>\n",
       "      <td>1</td>\n",
       "      <td>9847</td>\n",
       "      <td>2014-12-03 19</td>\n",
       "      <td>2014-12-03</td>\n",
       "      <td>19</td>\n",
       "    </tr>\n",
       "  </tbody>\n",
       "</table>\n",
       "<p>12256906 rows × 7 columns</p>\n",
       "</div>"
      ],
      "text/plain": [
       "            user_id    item_id  behavior_type  item_category           time  \\\n",
       "0          98047837  232431562              1           4245  2014-12-06 02   \n",
       "1          97726136  383583590              1           5894  2014-12-09 20   \n",
       "2          98607707   64749712              1           2883  2014-12-18 11   \n",
       "3          98662432  320593836              1           6562  2014-12-06 10   \n",
       "4          98145908  290208520              1          13926  2014-12-16 21   \n",
       "...             ...        ...            ...            ...            ...   \n",
       "12256901   93812622  378365755              1             11  2014-12-13 21   \n",
       "12256902   93812622  177724753              1          12311  2014-12-14 21   \n",
       "12256903   93812622  234391443              1           8765  2014-12-11 16   \n",
       "12256904   93812622   26452000              1           7951  2014-12-08 22   \n",
       "12256905  108404535  362699797              1           9847  2014-12-03 19   \n",
       "\n",
       "                date hour  \n",
       "0         2014-12-06   02  \n",
       "1         2014-12-09   20  \n",
       "2         2014-12-18   11  \n",
       "3         2014-12-06   10  \n",
       "4         2014-12-16   21  \n",
       "...              ...  ...  \n",
       "12256901  2014-12-13   21  \n",
       "12256902  2014-12-14   21  \n",
       "12256903  2014-12-11   16  \n",
       "12256904  2014-12-08   22  \n",
       "12256905  2014-12-03   19  \n",
       "\n",
       "[12256906 rows x 7 columns]"
      ]
     },
     "execution_count": 3,
     "metadata": {},
     "output_type": "execute_result"
    }
   ],
   "source": [
    "# 查看每列缺失值个数\n",
    "df.isna().sum()   # 等同于df.isfull().sum()\n",
    "# 缺失值过多 直接删除\n",
    "df.drop('user_geohash',axis=1,inplace=True)\n",
    "# 分割天数和小时\n",
    "df['date'] = df['time'].str[0:10]\n",
    "df['hour'] = df['time'].str[11:]\n",
    "df"
   ]
  },
  {
   "cell_type": "raw",
   "id": "9458a0f8-054b-4ed1-9dba-384adc595b20",
   "metadata": {},
   "source": [
    "# 类型转换\n",
    "df['date'] = pd.to_datetime(df['date'])\n",
    "df['hour'] = df['hour'].astype('int64')\n",
    "df.info()\n",
    "df.head()"
   ]
  },
  {
   "cell_type": "markdown",
   "id": "27ffdf55-d12f-46db-aa70-15e307cb372f",
   "metadata": {},
   "source": [
    "# 数据分析 & 可视化"
   ]
  },
  {
   "cell_type": "markdown",
   "id": "a8b82f88-a0ed-4de4-aaf1-d62902c962d4",
   "metadata": {},
   "source": [
    "流量分析 \n",
    "日访问量(PV) 日独立访问量(UV)"
   ]
  },
  {
   "cell_type": "code",
   "execution_count": 4,
   "id": "d680c25d-3ec2-4272-a71c-bc5e3fd00e35",
   "metadata": {},
   "outputs": [
    {
     "data": {
      "text/html": [
       "<div>\n",
       "<style scoped>\n",
       "    .dataframe tbody tr th:only-of-type {\n",
       "        vertical-align: middle;\n",
       "    }\n",
       "\n",
       "    .dataframe tbody tr th {\n",
       "        vertical-align: top;\n",
       "    }\n",
       "\n",
       "    .dataframe thead th {\n",
       "        text-align: right;\n",
       "    }\n",
       "</style>\n",
       "<table border=\"1\" class=\"dataframe\">\n",
       "  <thead>\n",
       "    <tr style=\"text-align: right;\">\n",
       "      <th></th>\n",
       "      <th>date</th>\n",
       "      <th>pv</th>\n",
       "    </tr>\n",
       "  </thead>\n",
       "  <tbody>\n",
       "    <tr>\n",
       "      <th>0</th>\n",
       "      <td>2014-11-18</td>\n",
       "      <td>366701</td>\n",
       "    </tr>\n",
       "    <tr>\n",
       "      <th>1</th>\n",
       "      <td>2014-11-19</td>\n",
       "      <td>358823</td>\n",
       "    </tr>\n",
       "    <tr>\n",
       "      <th>2</th>\n",
       "      <td>2014-11-20</td>\n",
       "      <td>353429</td>\n",
       "    </tr>\n",
       "    <tr>\n",
       "      <th>3</th>\n",
       "      <td>2014-11-21</td>\n",
       "      <td>333104</td>\n",
       "    </tr>\n",
       "    <tr>\n",
       "      <th>4</th>\n",
       "      <td>2014-11-22</td>\n",
       "      <td>361355</td>\n",
       "    </tr>\n",
       "  </tbody>\n",
       "</table>\n",
       "</div>"
      ],
      "text/plain": [
       "         date      pv\n",
       "0  2014-11-18  366701\n",
       "1  2014-11-19  358823\n",
       "2  2014-11-20  353429\n",
       "3  2014-11-21  333104\n",
       "4  2014-11-22  361355"
      ]
     },
     "execution_count": 4,
     "metadata": {},
     "output_type": "execute_result"
    }
   ],
   "source": [
    "# 日访问量\n",
    "pv_daily = df.groupby('date')['item_id'].size().reset_index(name='pv')\n",
    "pv_daily.head(5)"
   ]
  },
  {
   "cell_type": "code",
   "execution_count": 5,
   "id": "e9fe478a-a501-4588-8f7e-cc632e12f9f6",
   "metadata": {},
   "outputs": [
    {
     "data": {
      "text/html": [
       "<div>\n",
       "<style scoped>\n",
       "    .dataframe tbody tr th:only-of-type {\n",
       "        vertical-align: middle;\n",
       "    }\n",
       "\n",
       "    .dataframe tbody tr th {\n",
       "        vertical-align: top;\n",
       "    }\n",
       "\n",
       "    .dataframe thead th {\n",
       "        text-align: right;\n",
       "    }\n",
       "</style>\n",
       "<table border=\"1\" class=\"dataframe\">\n",
       "  <thead>\n",
       "    <tr style=\"text-align: right;\">\n",
       "      <th></th>\n",
       "      <th>date</th>\n",
       "      <th>uv</th>\n",
       "    </tr>\n",
       "  </thead>\n",
       "  <tbody>\n",
       "    <tr>\n",
       "      <th>0</th>\n",
       "      <td>2014-11-18</td>\n",
       "      <td>6343</td>\n",
       "    </tr>\n",
       "    <tr>\n",
       "      <th>1</th>\n",
       "      <td>2014-11-19</td>\n",
       "      <td>6420</td>\n",
       "    </tr>\n",
       "    <tr>\n",
       "      <th>2</th>\n",
       "      <td>2014-11-20</td>\n",
       "      <td>6333</td>\n",
       "    </tr>\n",
       "    <tr>\n",
       "      <th>3</th>\n",
       "      <td>2014-11-21</td>\n",
       "      <td>6276</td>\n",
       "    </tr>\n",
       "    <tr>\n",
       "      <th>4</th>\n",
       "      <td>2014-11-22</td>\n",
       "      <td>6187</td>\n",
       "    </tr>\n",
       "  </tbody>\n",
       "</table>\n",
       "</div>"
      ],
      "text/plain": [
       "         date    uv\n",
       "0  2014-11-18  6343\n",
       "1  2014-11-19  6420\n",
       "2  2014-11-20  6333\n",
       "3  2014-11-21  6276\n",
       "4  2014-11-22  6187"
      ]
     },
     "execution_count": 5,
     "metadata": {},
     "output_type": "execute_result"
    }
   ],
   "source": [
    "uv_daily = df.groupby('date')['user_id'].nunique().reset_index(name='uv')\n",
    "uv_daily.head()"
   ]
  },
  {
   "cell_type": "markdown",
   "id": "34b46809-5167-4669-9ef3-87897a9e508e",
   "metadata": {},
   "source": [
    "可视化结果展示"
   ]
  },
  {
   "cell_type": "code",
   "execution_count": 6,
   "id": "77fd04ef-eae4-487c-bc4a-1e9a23137c1c",
   "metadata": {},
   "outputs": [
    {
     "data": {
      "text/plain": [
       "Text(0.5, 1.0, 'uv_daily')"
      ]
     },
     "execution_count": 6,
     "metadata": {},
     "output_type": "execute_result"
    },
    {
     "data": {
      "image/png": "[encoded data removed]",
      "text/plain": [
       "<Figure size 640x480 with 2 Axes>"
      ]
     },
     "metadata": {},
     "output_type": "display_data"
    }
   ],
   "source": [
    "fig, axes = plt.subplots(2,1,sharex=True)\n",
    "pv_daily.plot(x='date',y='pv',ax=axes[0],colormap='rainbow')\n",
    "uv_daily.plot(x='date',y='uv',ax=axes[1],colormap='RdGy')\n",
    "axes[0].set_title('pv_daily')\n",
    "axes[1].set_title('uv_daily')"
   ]
  },
  {
   "cell_type": "markdown",
   "id": "47441d0d-fb91-47dc-a472-0abe5d3991c7",
   "metadata": {},
   "source": [
    "有图象得出结论 ，12.12 人最多 为什么呢 ，因为有双12"
   ]
  },
  {
   "cell_type": "markdown",
   "id": "1035a716-417a-44aa-8e8e-e3b4c66174b7",
   "metadata": {},
   "source": [
    "小时访问量 & 小时独立访问量"
   ]
  },
  {
   "cell_type": "code",
   "execution_count": 7,
   "id": "3e5700b1-3a31-401d-9de7-3ec6b4815370",
   "metadata": {},
   "outputs": [
    {
     "data": {
      "text/html": [
       "<div>\n",
       "<style scoped>\n",
       "    .dataframe tbody tr th:only-of-type {\n",
       "        vertical-align: middle;\n",
       "    }\n",
       "\n",
       "    .dataframe tbody tr th {\n",
       "        vertical-align: top;\n",
       "    }\n",
       "\n",
       "    .dataframe thead th {\n",
       "        text-align: right;\n",
       "    }\n",
       "</style>\n",
       "<table border=\"1\" class=\"dataframe\">\n",
       "  <thead>\n",
       "    <tr style=\"text-align: right;\">\n",
       "      <th></th>\n",
       "      <th>hour</th>\n",
       "      <th>pv</th>\n",
       "    </tr>\n",
       "  </thead>\n",
       "  <tbody>\n",
       "    <tr>\n",
       "      <th>0</th>\n",
       "      <td>00</td>\n",
       "      <td>517404</td>\n",
       "    </tr>\n",
       "    <tr>\n",
       "      <th>1</th>\n",
       "      <td>01</td>\n",
       "      <td>267682</td>\n",
       "    </tr>\n",
       "    <tr>\n",
       "      <th>2</th>\n",
       "      <td>02</td>\n",
       "      <td>147090</td>\n",
       "    </tr>\n",
       "    <tr>\n",
       "      <th>3</th>\n",
       "      <td>03</td>\n",
       "      <td>98516</td>\n",
       "    </tr>\n",
       "    <tr>\n",
       "      <th>4</th>\n",
       "      <td>04</td>\n",
       "      <td>80487</td>\n",
       "    </tr>\n",
       "  </tbody>\n",
       "</table>\n",
       "</div>"
      ],
      "text/plain": [
       "  hour      pv\n",
       "0   00  517404\n",
       "1   01  267682\n",
       "2   02  147090\n",
       "3   03   98516\n",
       "4   04   80487"
      ]
     },
     "execution_count": 7,
     "metadata": {},
     "output_type": "execute_result"
    }
   ],
   "source": [
    "pv_hour = df.groupby('hour')['user_id'].size().reset_index(name='pv')\n",
    "pv_hour.head()"
   ]
  },
  {
   "cell_type": "code",
   "execution_count": 8,
   "id": "72385dcb-19d3-4933-89a6-09e637dbf8b2",
   "metadata": {},
   "outputs": [
    {
     "data": {
      "text/html": [
       "<div>\n",
       "<style scoped>\n",
       "    .dataframe tbody tr th:only-of-type {\n",
       "        vertical-align: middle;\n",
       "    }\n",
       "\n",
       "    .dataframe tbody tr th {\n",
       "        vertical-align: top;\n",
       "    }\n",
       "\n",
       "    .dataframe thead th {\n",
       "        text-align: right;\n",
       "    }\n",
       "</style>\n",
       "<table border=\"1\" class=\"dataframe\">\n",
       "  <thead>\n",
       "    <tr style=\"text-align: right;\">\n",
       "      <th></th>\n",
       "      <th>hour</th>\n",
       "      <th>uv</th>\n",
       "    </tr>\n",
       "  </thead>\n",
       "  <tbody>\n",
       "    <tr>\n",
       "      <th>0</th>\n",
       "      <td>00</td>\n",
       "      <td>5786</td>\n",
       "    </tr>\n",
       "    <tr>\n",
       "      <th>1</th>\n",
       "      <td>01</td>\n",
       "      <td>3780</td>\n",
       "    </tr>\n",
       "    <tr>\n",
       "      <th>2</th>\n",
       "      <td>02</td>\n",
       "      <td>2532</td>\n",
       "    </tr>\n",
       "    <tr>\n",
       "      <th>3</th>\n",
       "      <td>03</td>\n",
       "      <td>1937</td>\n",
       "    </tr>\n",
       "    <tr>\n",
       "      <th>4</th>\n",
       "      <td>04</td>\n",
       "      <td>1765</td>\n",
       "    </tr>\n",
       "  </tbody>\n",
       "</table>\n",
       "</div>"
      ],
      "text/plain": [
       "  hour    uv\n",
       "0   00  5786\n",
       "1   01  3780\n",
       "2   02  2532\n",
       "3   03  1937\n",
       "4   04  1765"
      ]
     },
     "execution_count": 8,
     "metadata": {},
     "output_type": "execute_result"
    }
   ],
   "source": [
    "uv_hour = df.groupby('hour')['user_id'].nunique().reset_index(name='uv')\n",
    "uv_hour.head()"
   ]
  },
  {
   "cell_type": "code",
   "execution_count": 9,
   "id": "e1d38b14-0de2-4add-a701-b528c902fa36",
   "metadata": {},
   "outputs": [
    {
     "data": {
      "text/plain": [
       "Text(0.5, 1.0, 'uv_hour')"
      ]
     },
     "execution_count": 9,
     "metadata": {},
     "output_type": "execute_result"
    },
    {
     "data": {
      "image/png": "[encoded data removed]",
      "text/plain": [
       "<Figure size 640x480 with 2 Axes>"
      ]
     },
     "metadata": {},
     "output_type": "display_data"
    }
   ],
   "source": [
    "# 可视化\n",
    "fig,axes = plt.subplots(2,1,sharex=True)\n",
    "# pv_hour.plot()\n",
    "pv_hour.plot(x='hour',y='pv',ax=axes[0],colormap='cividis')\n",
    "uv_hour.plot(x='hour',y='uv',ax=axes[1],colormap='RdGy')\n",
    "axes[0].set_title('pv_hour')\n",
    "axes[1].set_title('uv_hour')"
   ]
  },
  {
   "cell_type": "markdown",
   "id": "c52ade03-475a-4423-a3ed-f1ea789ad51a",
   "metadata": {},
   "source": [
    "由图可以看出 uv,pv的峰值出现在8点，说明下班后进行了使用，用户大部分都是上班族，10点之后便没有出现大的浮动"
   ]
  },
  {
   "cell_type": "markdown",
   "id": "2748d1f0-c62b-43eb-8f94-e959889eabeb",
   "metadata": {},
   "source": [
    "可以分析一下双12当天的时访问量 & 时独立访问量"
   ]
  },
  {
   "cell_type": "code",
   "execution_count": 10,
   "id": "a716b688-096f-4615-a7c6-eb098627c352",
   "metadata": {},
   "outputs": [
    {
     "data": {
      "text/html": [
       "<div>\n",
       "<style scoped>\n",
       "    .dataframe tbody tr th:only-of-type {\n",
       "        vertical-align: middle;\n",
       "    }\n",
       "\n",
       "    .dataframe tbody tr th {\n",
       "        vertical-align: top;\n",
       "    }\n",
       "\n",
       "    .dataframe thead th {\n",
       "        text-align: right;\n",
       "    }\n",
       "</style>\n",
       "<table border=\"1\" class=\"dataframe\">\n",
       "  <thead>\n",
       "    <tr style=\"text-align: right;\">\n",
       "      <th></th>\n",
       "      <th>user_id</th>\n",
       "      <th>item_id</th>\n",
       "      <th>behavior_type</th>\n",
       "      <th>item_category</th>\n",
       "      <th>time</th>\n",
       "      <th>date</th>\n",
       "      <th>hour</th>\n",
       "    </tr>\n",
       "  </thead>\n",
       "  <tbody>\n",
       "    <tr>\n",
       "      <th>13</th>\n",
       "      <td>101260672</td>\n",
       "      <td>212072908</td>\n",
       "      <td>1</td>\n",
       "      <td>10984</td>\n",
       "      <td>2014-12-12 11</td>\n",
       "      <td>2014-12-12</td>\n",
       "      <td>11</td>\n",
       "    </tr>\n",
       "    <tr>\n",
       "      <th>20</th>\n",
       "      <td>101781721</td>\n",
       "      <td>19349307</td>\n",
       "      <td>1</td>\n",
       "      <td>1863</td>\n",
       "      <td>2014-12-12 12</td>\n",
       "      <td>2014-12-12</td>\n",
       "      <td>12</td>\n",
       "    </tr>\n",
       "    <tr>\n",
       "      <th>54</th>\n",
       "      <td>100684618</td>\n",
       "      <td>94486594</td>\n",
       "      <td>1</td>\n",
       "      <td>10984</td>\n",
       "      <td>2014-12-12 23</td>\n",
       "      <td>2014-12-12</td>\n",
       "      <td>23</td>\n",
       "    </tr>\n",
       "    <tr>\n",
       "      <th>69</th>\n",
       "      <td>103802946</td>\n",
       "      <td>190848347</td>\n",
       "      <td>1</td>\n",
       "      <td>5232</td>\n",
       "      <td>2014-12-12 22</td>\n",
       "      <td>2014-12-12</td>\n",
       "      <td>22</td>\n",
       "    </tr>\n",
       "    <tr>\n",
       "      <th>95</th>\n",
       "      <td>104811265</td>\n",
       "      <td>354843735</td>\n",
       "      <td>1</td>\n",
       "      <td>10585</td>\n",
       "      <td>2014-12-12 21</td>\n",
       "      <td>2014-12-12</td>\n",
       "      <td>21</td>\n",
       "    </tr>\n",
       "  </tbody>\n",
       "</table>\n",
       "</div>"
      ],
      "text/plain": [
       "      user_id    item_id  behavior_type  item_category           time  \\\n",
       "13  101260672  212072908              1          10984  2014-12-12 11   \n",
       "20  101781721   19349307              1           1863  2014-12-12 12   \n",
       "54  100684618   94486594              1          10984  2014-12-12 23   \n",
       "69  103802946  190848347              1           5232  2014-12-12 22   \n",
       "95  104811265  354843735              1          10585  2014-12-12 21   \n",
       "\n",
       "          date hour  \n",
       "13  2014-12-12   11  \n",
       "20  2014-12-12   12  \n",
       "54  2014-12-12   23  \n",
       "69  2014-12-12   22  \n",
       "95  2014-12-12   21  "
      ]
     },
     "execution_count": 10,
     "metadata": {},
     "output_type": "execute_result"
    }
   ],
   "source": [
    "data_1212 = df[df['date'] == '2014-12-12']\n",
    "data_1212.head()"
   ]
  },
  {
   "cell_type": "code",
   "execution_count": 11,
   "id": "c481ae4d-2bbb-498e-b141-0313be16be8e",
   "metadata": {},
   "outputs": [
    {
     "data": {
      "text/html": [
       "<div>\n",
       "<style scoped>\n",
       "    .dataframe tbody tr th:only-of-type {\n",
       "        vertical-align: middle;\n",
       "    }\n",
       "\n",
       "    .dataframe tbody tr th {\n",
       "        vertical-align: top;\n",
       "    }\n",
       "\n",
       "    .dataframe thead th {\n",
       "        text-align: right;\n",
       "    }\n",
       "</style>\n",
       "<table border=\"1\" class=\"dataframe\">\n",
       "  <thead>\n",
       "    <tr style=\"text-align: right;\">\n",
       "      <th></th>\n",
       "      <th>hour</th>\n",
       "      <th>user_id</th>\n",
       "    </tr>\n",
       "  </thead>\n",
       "  <tbody>\n",
       "    <tr>\n",
       "      <th>0</th>\n",
       "      <td>00</td>\n",
       "      <td>1569</td>\n",
       "    </tr>\n",
       "    <tr>\n",
       "      <th>1</th>\n",
       "      <td>01</td>\n",
       "      <td>811</td>\n",
       "    </tr>\n",
       "    <tr>\n",
       "      <th>2</th>\n",
       "      <td>02</td>\n",
       "      <td>411</td>\n",
       "    </tr>\n",
       "    <tr>\n",
       "      <th>3</th>\n",
       "      <td>03</td>\n",
       "      <td>255</td>\n",
       "    </tr>\n",
       "    <tr>\n",
       "      <th>4</th>\n",
       "      <td>04</td>\n",
       "      <td>211</td>\n",
       "    </tr>\n",
       "  </tbody>\n",
       "</table>\n",
       "</div>"
      ],
      "text/plain": [
       "  hour  user_id\n",
       "0   00     1569\n",
       "1   01      811\n",
       "2   02      411\n",
       "3   03      255\n",
       "4   04      211"
      ]
     },
     "execution_count": 11,
     "metadata": {},
     "output_type": "execute_result"
    }
   ],
   "source": [
    "# 计算双12的pv uv\n",
    "pv_hour_1212 = data_1212.groupby('hour')['user_id'].size().reset_index()\n",
    "pv_hour_1212.head()\n",
    "uv_hour_1212 = data_1212.groupby('hour')['user_id'].nunique().reset_index()\n",
    "uv_hour_1212.head()"
   ]
  },
  {
   "cell_type": "code",
   "execution_count": 12,
   "id": "a00ab8c9-c228-45ed-bd0e-acf486bee3a9",
   "metadata": {},
   "outputs": [
    {
     "data": {
      "text/plain": [
       "Text(0.5, 1.0, 'pv_hour')"
      ]
     },
     "execution_count": 12,
     "metadata": {},
     "output_type": "execute_result"
    },
    {
     "data": {
      "image/png": "[encoded data removed]",
      "text/plain": [
       "<Figure size 640x480 with 2 Axes>"
      ]
     },
     "metadata": {},
     "output_type": "display_data"
    }
   ],
   "source": [
    "fig,axes = plt.subplots(2,1,sharex=True)\n",
    "pv_hour_1212.plot(x='hour',y='user_id',ax=axes[0],colormap='cividis')\n",
    "pv_hour.plot(x='hour',y='pv',ax=axes[1],colormap='RdGy')\n",
    "axes[0].set_title('pv_hour_1212')\n",
    "axes[1].set_title('pv_hour')"
   ]
  },
  {
   "cell_type": "code",
   "execution_count": 13,
   "id": "a6ddc3c6-8bd1-44e3-9a26-5e95ff50d558",
   "metadata": {},
   "outputs": [
    {
     "data": {
      "text/plain": [
       "Text(0.5, 1.0, 'uv_hour')"
      ]
     },
     "execution_count": 13,
     "metadata": {},
     "output_type": "execute_result"
    },
    {
     "data": {
      "image/png": "[encoded data removed]",
      "text/plain": [
       "<Figure size 640x480 with 2 Axes>"
      ]
     },
     "metadata": {},
     "output_type": "display_data"
    }
   ],
   "source": [
    "fig,axes = plt.subplots(2,1,sharex=True)\n",
    "uv_hour_1212.plot(x='hour',y='user_id',ax=axes[0],colormap='cividis')\n",
    "uv_hour.plot(x='hour',y='uv',ax=axes[1],colormap='RdGy')\n",
    "axes[0].set_title('uv_hour_1212')\n",
    "axes[1].set_title('uv_hour')"
   ]
  },
  {
   "cell_type": "markdown",
   "id": "4e1bdb83-7e48-4afb-afb2-28394bbe8fe8",
   "metadata": {},
   "source": [
    "pv图像变化不算大 uv里面出现了最高点，比以往平均都高，表明淘宝用户在双12那天购物意愿还是很强烈的"
   ]
  },
  {
   "cell_type": "code",
   "execution_count": 14,
   "id": "82884475-03fc-4cd6-94d9-b8e13d1f065b",
   "metadata": {},
   "outputs": [
    {
     "data": {
      "text/html": [
       "<div>\n",
       "<style scoped>\n",
       "    .dataframe tbody tr th:only-of-type {\n",
       "        vertical-align: middle;\n",
       "    }\n",
       "\n",
       "    .dataframe tbody tr th {\n",
       "        vertical-align: top;\n",
       "    }\n",
       "\n",
       "    .dataframe thead th {\n",
       "        text-align: right;\n",
       "    }\n",
       "</style>\n",
       "<table border=\"1\" class=\"dataframe\">\n",
       "  <thead>\n",
       "    <tr style=\"text-align: right;\">\n",
       "      <th></th>\n",
       "      <th>behavior_type</th>\n",
       "      <th>hour</th>\n",
       "      <th>user_id</th>\n",
       "    </tr>\n",
       "  </thead>\n",
       "  <tbody>\n",
       "    <tr>\n",
       "      <th>0</th>\n",
       "      <td>1</td>\n",
       "      <td>00</td>\n",
       "      <td>487341</td>\n",
       "    </tr>\n",
       "    <tr>\n",
       "      <th>1</th>\n",
       "      <td>1</td>\n",
       "      <td>01</td>\n",
       "      <td>252991</td>\n",
       "    </tr>\n",
       "    <tr>\n",
       "      <th>2</th>\n",
       "      <td>1</td>\n",
       "      <td>02</td>\n",
       "      <td>139139</td>\n",
       "    </tr>\n",
       "    <tr>\n",
       "      <th>3</th>\n",
       "      <td>1</td>\n",
       "      <td>03</td>\n",
       "      <td>93250</td>\n",
       "    </tr>\n",
       "    <tr>\n",
       "      <th>4</th>\n",
       "      <td>1</td>\n",
       "      <td>04</td>\n",
       "      <td>75832</td>\n",
       "    </tr>\n",
       "  </tbody>\n",
       "</table>\n",
       "</div>"
      ],
      "text/plain": [
       "   behavior_type hour  user_id\n",
       "0              1   00   487341\n",
       "1              1   01   252991\n",
       "2              1   02   139139\n",
       "3              1   03    93250\n",
       "4              1   04    75832"
      ]
     },
     "execution_count": 14,
     "metadata": {},
     "output_type": "execute_result"
    }
   ],
   "source": [
    "# 不同用户行为流量分析\n",
    "pv_behavior = df.groupby(['behavior_type','hour'])['user_id'].size().reset_index()\n",
    "pv_behavior.head()"
   ]
  },
  {
   "cell_type": "code",
   "execution_count": 15,
   "id": "0ac6a0e8-405d-4006-8025-134d5f21cd49",
   "metadata": {},
   "outputs": [
    {
     "data": {
      "image/png": "[encoded data removed]",
      "text/plain": [
       "<Figure size 640x480 with 1 Axes>"
      ]
     },
     "metadata": {},
     "output_type": "display_data"
    }
   ],
   "source": [
    "sns.lineplot(data = pv_behavior,x='hour',y='user_id',hue='behavior_type')\n",
    "plt.legend(loc='best')\n",
    "plt.tight_layout()\n",
    "plt.show()"
   ]
  },
  {
   "cell_type": "code",
   "execution_count": 16,
   "id": "fe450cd4-d541-44f2-9967-2ff1809013b3",
   "metadata": {},
   "outputs": [
    {
     "data": {
      "image/png": "[encoded data removed]",
      "text/plain": [
       "<Figure size 640x480 with 1 Axes>"
      ]
     },
     "metadata": {},
     "output_type": "display_data"
    }
   ],
   "source": [
    "# 去掉点击行为\n",
    "# 包括浏览、收藏、加购物车、购买，对应取值分别是1、2、3、4\n",
    "pv_behavior = pv_behavior[pv_behavior['behavior_type']!=1]\n",
    "pv_behavior\n",
    "sns.lineplot(data = pv_behavior,x='hour',y='user_id',hue='behavior_type')\n",
    "plt.legend(loc='best')\n",
    "plt.tight_layout()\n",
    "plt.show()"
   ]
  },
  {
   "cell_type": "markdown",
   "id": "12c8d505-ceab-4dac-8878-90ef71ac6dec",
   "metadata": {},
   "source": [
    "由图像可以看出 6点之后 用户的收藏，购买，加入购物车行为疯狂增长 但是购买力并不算太高\n",
    "反而是收藏量高，我们可以在这个时候推送优惠卷 ，提高转化率，把收藏 加购 争取变成购买行为"
   ]
  },
  {
   "cell_type": "code",
   "execution_count": 17,
   "id": "3454f705-f28c-46a2-827c-09da0d773e25",
   "metadata": {},
   "outputs": [
    {
     "data": {
      "text/html": [
       "<div>\n",
       "<style scoped>\n",
       "    .dataframe tbody tr th:only-of-type {\n",
       "        vertical-align: middle;\n",
       "    }\n",
       "\n",
       "    .dataframe tbody tr th {\n",
       "        vertical-align: top;\n",
       "    }\n",
       "\n",
       "    .dataframe thead th {\n",
       "        text-align: right;\n",
       "    }\n",
       "</style>\n",
       "<table border=\"1\" class=\"dataframe\">\n",
       "  <thead>\n",
       "    <tr style=\"text-align: right;\">\n",
       "      <th></th>\n",
       "      <th>behavior_type</th>\n",
       "      <th>hour</th>\n",
       "      <th>user_id</th>\n",
       "    </tr>\n",
       "  </thead>\n",
       "  <tbody>\n",
       "    <tr>\n",
       "      <th>0</th>\n",
       "      <td>1</td>\n",
       "      <td>00</td>\n",
       "      <td>45229</td>\n",
       "    </tr>\n",
       "    <tr>\n",
       "      <th>1</th>\n",
       "      <td>1</td>\n",
       "      <td>01</td>\n",
       "      <td>20988</td>\n",
       "    </tr>\n",
       "    <tr>\n",
       "      <th>2</th>\n",
       "      <td>1</td>\n",
       "      <td>02</td>\n",
       "      <td>10896</td>\n",
       "    </tr>\n",
       "    <tr>\n",
       "      <th>3</th>\n",
       "      <td>1</td>\n",
       "      <td>03</td>\n",
       "      <td>5762</td>\n",
       "    </tr>\n",
       "    <tr>\n",
       "      <th>4</th>\n",
       "      <td>1</td>\n",
       "      <td>04</td>\n",
       "      <td>4827</td>\n",
       "    </tr>\n",
       "    <tr>\n",
       "      <th>...</th>\n",
       "      <td>...</td>\n",
       "      <td>...</td>\n",
       "      <td>...</td>\n",
       "    </tr>\n",
       "    <tr>\n",
       "      <th>91</th>\n",
       "      <td>4</td>\n",
       "      <td>19</td>\n",
       "      <td>577</td>\n",
       "    </tr>\n",
       "    <tr>\n",
       "      <th>92</th>\n",
       "      <td>4</td>\n",
       "      <td>20</td>\n",
       "      <td>643</td>\n",
       "    </tr>\n",
       "    <tr>\n",
       "      <th>93</th>\n",
       "      <td>4</td>\n",
       "      <td>21</td>\n",
       "      <td>850</td>\n",
       "    </tr>\n",
       "    <tr>\n",
       "      <th>94</th>\n",
       "      <td>4</td>\n",
       "      <td>22</td>\n",
       "      <td>985</td>\n",
       "    </tr>\n",
       "    <tr>\n",
       "      <th>95</th>\n",
       "      <td>4</td>\n",
       "      <td>23</td>\n",
       "      <td>950</td>\n",
       "    </tr>\n",
       "  </tbody>\n",
       "</table>\n",
       "<p>96 rows × 3 columns</p>\n",
       "</div>"
      ],
      "text/plain": [
       "    behavior_type hour  user_id\n",
       "0               1   00    45229\n",
       "1               1   01    20988\n",
       "2               1   02    10896\n",
       "3               1   03     5762\n",
       "4               1   04     4827\n",
       "..            ...  ...      ...\n",
       "91              4   19      577\n",
       "92              4   20      643\n",
       "93              4   21      850\n",
       "94              4   22      985\n",
       "95              4   23      950\n",
       "\n",
       "[96 rows x 3 columns]"
      ]
     },
     "execution_count": 17,
     "metadata": {},
     "output_type": "execute_result"
    }
   ],
   "source": [
    "# 双12\n",
    "pv_1212 = data_1212.groupby(['behavior_type','hour'])['user_id'].size().reset_index()\n",
    "pv_1212"
   ]
  },
  {
   "cell_type": "code",
   "execution_count": 18,
   "id": "c85b5041-2646-4232-83b7-9a8a001b69ee",
   "metadata": {},
   "outputs": [
    {
     "data": {
      "image/png": "[encoded data removed]",
      "text/plain": [
       "<Figure size 640x480 with 1 Axes>"
      ]
     },
     "metadata": {},
     "output_type": "display_data"
    }
   ],
   "source": [
    "# 可视化\n",
    "sns.lineplot(data=pv_1212,x='hour',y='user_id',hue='behavior_type')\n",
    "plt.show()"
   ]
  },
  {
   "cell_type": "code",
   "execution_count": 19,
   "id": "c7f27439-aff5-47ca-97ec-c36946186b2d",
   "metadata": {},
   "outputs": [
    {
     "data": {
      "image/png": "[encoded data removed]",
      "text/plain": [
       "<Figure size 640x480 with 1 Axes>"
      ]
     },
     "metadata": {},
     "output_type": "display_data"
    }
   ],
   "source": [
    "pv_1212 = pv_1212[pv_1212['behavior_type']!=1]\n",
    "sns.lineplot(data=pv_1212,x='hour',y='user_id',hue='behavior_type')\n",
    "plt.show()"
   ]
  },
  {
   "cell_type": "code",
   "execution_count": 20,
   "id": "06c3c431-d259-4f4e-8841-f320e745c95e",
   "metadata": {},
   "outputs": [
    {
     "data": {
      "image/png": "[encoded data removed]",
      "text/plain": [
       "<Figure size 640x480 with 2 Axes>"
      ]
     },
     "metadata": {},
     "output_type": "display_data"
    }
   ],
   "source": [
    "pv_1212 = pv_1212[pv_1212['behavior_type']!=1]\n",
    "fig,axes=plt.subplots(2,1,sharex=True)\n",
    "sns.lineplot(data=pv_1212,x='hour',y='user_id',hue='behavior_type',ax=axes[0])\n",
    "sns.lineplot(data=pv_behavior,x='hour',y='user_id',hue='behavior_type',ax=axes[1])\n",
    "axes[0].set_title('pv_1212')\n",
    "axes[1].set_title('pv_behavior')\n",
    "axes[0].legend(loc='best')\n",
    "axes[1].legend(loc='best')\n",
    "plt.show()"
   ]
  },
  {
   "cell_type": "code",
   "execution_count": 21,
   "id": "93b6f136-1618-4dcb-87ad-b208451662db",
   "metadata": {},
   "outputs": [],
   "source": [
    "# 由用户行为分析来看 在双12当天 用户的购买行为比非常高很多，在早上5点之后，比平时都要高"
   ]
  },
  {
   "cell_type": "markdown",
   "id": "a4ba065b-44c6-4d13-8482-0da030ba6a74",
   "metadata": {},
   "source": [
    "# 转化率分析"
   ]
  },
  {
   "cell_type": "code",
   "execution_count": 22,
   "id": "73dbf0f9-5a6d-4127-979a-a8abdc98ae55",
   "metadata": {},
   "outputs": [],
   "source": [
    "behavior_count = df['behavior_type'].value_counts()\n",
    "behavior_count\n",
    "click_num, fav_num, add_num, buy_num = behavior_count"
   ]
  },
  {
   "cell_type": "code",
   "execution_count": 23,
   "id": "94465c9e-aded-4aa5-bd07-fe05e4429a50",
   "metadata": {},
   "outputs": [
    {
     "name": "stdout",
     "output_type": "stream",
     "text": [
      "点击 到 加购/收藏转化率: 5.074376778103197\n",
      "加购/收藏到购买转化率: 20.508598921722516\n",
      "点击 到 购买转化率: 1.04068358119821\n"
     ]
    }
   ],
   "source": [
    "fav_add_num = fav_num+add_num \n",
    "print('点击 到 加购/收藏转化率:',fav_add_num/click_num*100)\n",
    "print('加购/收藏到购买转化率:',buy_num/fav_add_num*100)\n",
    "print('点击 到 购买转化率:',buy_num/click_num*100)"
   ]
  },
  {
   "cell_type": "markdown",
   "id": "a0374e69-ca05-4647-902c-e31f0412cc58",
   "metadata": {},
   "source": [
    "点击到收藏/加购 的概率为5% , 加购/收藏 到 购买的转化率为 20% 这说明用户对于加购/收藏的还是很大概率买下的\n",
    "点击到购买转化率只有1%"
   ]
  },
  {
   "cell_type": "code",
   "execution_count": 24,
   "id": "cfa64996-5260-438e-9c1e-187b34a7f56a",
   "metadata": {},
   "outputs": [
    {
     "name": "stdout",
     "output_type": "stream",
     "text": [
      "点击到加购/收藏转化率: 6.197749985580828\n",
      "加购/收藏到购买转化率: 26.273296612087826\n",
      "点击 到 购买转化率: 1.6283532369872815\n"
     ]
    }
   ],
   "source": [
    "behavior_count = data_1212['behavior_type'].value_counts()\n",
    "behavior_count\n",
    "click_num, fav_num, add_num, buy_num = behavior_count\n",
    "fav_add_num = fav_num+add_num \n",
    "print('点击到加购/收藏转化率:',fav_add_num/click_num*100)\n",
    "print('加购/收藏到购买转化率:',buy_num/fav_add_num*100)\n",
    "print('点击 到 购买转化率:',buy_num/click_num*100)"
   ]
  },
  {
   "cell_type": "markdown",
   "id": "5cdb92ae-0b54-4cbb-8b61-991de9bb6dd8",
   "metadata": {},
   "source": [
    "点击到收藏/加购 的概率提高了1%，加购/收藏 到购买的概率提高了6%，点击到购买的概率提升了0.6%\n",
    "说明双12，用户的购物意愿有了非常大的提高"
   ]
  },
  {
   "cell_type": "markdown",
   "id": "ce87494b-df9e-40e0-a608-b38faf9f3a58",
   "metadata": {},
   "source": [
    "# 用户价值分析"
   ]
  },
  {
   "cell_type": "markdown",
   "id": "41abc1e7-60ae-43bd-9b3d-adcddb0a214a",
   "metadata": {},
   "source": [
    "用户购买频次分析"
   ]
  },
  {
   "cell_type": "code",
   "execution_count": 25,
   "id": "d5b7fd5f-1e9b-4438-a92b-2162a2cfdf80",
   "metadata": {},
   "outputs": [
    {
     "data": {
      "text/html": [
       "<div>\n",
       "<style scoped>\n",
       "    .dataframe tbody tr th:only-of-type {\n",
       "        vertical-align: middle;\n",
       "    }\n",
       "\n",
       "    .dataframe tbody tr th {\n",
       "        vertical-align: top;\n",
       "    }\n",
       "\n",
       "    .dataframe thead th {\n",
       "        text-align: right;\n",
       "    }\n",
       "</style>\n",
       "<table border=\"1\" class=\"dataframe\">\n",
       "  <thead>\n",
       "    <tr style=\"text-align: right;\">\n",
       "      <th></th>\n",
       "      <th>user_id</th>\n",
       "      <th>behavior_type</th>\n",
       "    </tr>\n",
       "  </thead>\n",
       "  <tbody>\n",
       "    <tr>\n",
       "      <th>0</th>\n",
       "      <td>4913</td>\n",
       "      <td>6</td>\n",
       "    </tr>\n",
       "    <tr>\n",
       "      <th>1</th>\n",
       "      <td>6118</td>\n",
       "      <td>1</td>\n",
       "    </tr>\n",
       "    <tr>\n",
       "      <th>2</th>\n",
       "      <td>7528</td>\n",
       "      <td>6</td>\n",
       "    </tr>\n",
       "    <tr>\n",
       "      <th>3</th>\n",
       "      <td>7591</td>\n",
       "      <td>21</td>\n",
       "    </tr>\n",
       "    <tr>\n",
       "      <th>4</th>\n",
       "      <td>12645</td>\n",
       "      <td>8</td>\n",
       "    </tr>\n",
       "    <tr>\n",
       "      <th>...</th>\n",
       "      <td>...</td>\n",
       "      <td>...</td>\n",
       "    </tr>\n",
       "    <tr>\n",
       "      <th>8881</th>\n",
       "      <td>142376113</td>\n",
       "      <td>1</td>\n",
       "    </tr>\n",
       "    <tr>\n",
       "      <th>8882</th>\n",
       "      <td>142412247</td>\n",
       "      <td>12</td>\n",
       "    </tr>\n",
       "    <tr>\n",
       "      <th>8883</th>\n",
       "      <td>142430177</td>\n",
       "      <td>5</td>\n",
       "    </tr>\n",
       "    <tr>\n",
       "      <th>8884</th>\n",
       "      <td>142450275</td>\n",
       "      <td>40</td>\n",
       "    </tr>\n",
       "    <tr>\n",
       "      <th>8885</th>\n",
       "      <td>142455899</td>\n",
       "      <td>13</td>\n",
       "    </tr>\n",
       "  </tbody>\n",
       "</table>\n",
       "<p>8886 rows × 2 columns</p>\n",
       "</div>"
      ],
      "text/plain": [
       "        user_id  behavior_type\n",
       "0          4913              6\n",
       "1          6118              1\n",
       "2          7528              6\n",
       "3          7591             21\n",
       "4         12645              8\n",
       "...         ...            ...\n",
       "8881  142376113              1\n",
       "8882  142412247             12\n",
       "8883  142430177              5\n",
       "8884  142450275             40\n",
       "8885  142455899             13\n",
       "\n",
       "[8886 rows x 2 columns]"
      ]
     },
     "execution_count": 25,
     "metadata": {},
     "output_type": "execute_result"
    }
   ],
   "source": [
    "# 只分析购买行为的\n",
    "df_buy = df[df['behavior_type']==4].groupby('user_id')['behavior_type'].count().reset_index()\n",
    "df_buy"
   ]
  },
  {
   "cell_type": "code",
   "execution_count": 26,
   "id": "30cd33fc-44c2-4fd3-82d6-825ebf8789b6",
   "metadata": {},
   "outputs": [
    {
     "data": {
      "text/plain": [
       "<Axes: xlabel='user_id'>"
      ]
     },
     "execution_count": 26,
     "metadata": {},
     "output_type": "execute_result"
    },
    {
     "data": {
      "image/png": "[encoded data removed]",
      "text/plain": [
       "<Figure size 640x480 with 1 Axes>"
      ]
     },
     "metadata": {},
     "output_type": "display_data"
    }
   ],
   "source": [
    "df_buy.plot(x='user_id',y='behavior_type')"
   ]
  },
  {
   "cell_type": "markdown",
   "id": "b1c129a4-fc6b-40a2-82a2-2cc877803c02",
   "metadata": {},
   "source": [
    "可以看出大部分用户的购买次数在0-100之间 甚至有超过800次的 这是忠实用户"
   ]
  },
  {
   "cell_type": "markdown",
   "id": "5adda35f-fe25-4dc4-bc8a-19dab4e3a351",
   "metadata": {},
   "source": [
    "df_buy.sort_values('behavior_type',inplace=True,ascending=False)\n",
    "df_buy.head(10)"
   ]
  },
  {
   "cell_type": "markdown",
   "id": "4160c9a9-c3cd-415e-872f-e8a167e8ebc2",
   "metadata": {},
   "source": [
    "前10个忠实用户"
   ]
  },
  {
   "cell_type": "markdown",
   "id": "d6557313-2032-4fc8-99b0-bc6c364703a1",
   "metadata": {},
   "source": [
    "# ARPU分析"
   ]
  },
  {
   "cell_type": "markdown",
   "id": "3e0a0118-1511-4948-a077-1a2f14f25c90",
   "metadata": {},
   "source": [
    "ARPU = 每日总收益 ÷ 每日总用户数 没有收益 就用每日消费次数代替吧"
   ]
  },
  {
   "cell_type": "code",
   "execution_count": 27,
   "id": "e3eda02b-4d98-4443-b957-986bdf7532dd",
   "metadata": {},
   "outputs": [
    {
     "data": {
      "text/html": [
       "<div>\n",
       "<style scoped>\n",
       "    .dataframe tbody tr th:only-of-type {\n",
       "        vertical-align: middle;\n",
       "    }\n",
       "\n",
       "    .dataframe tbody tr th {\n",
       "        vertical-align: top;\n",
       "    }\n",
       "\n",
       "    .dataframe thead th {\n",
       "        text-align: right;\n",
       "    }\n",
       "</style>\n",
       "<table border=\"1\" class=\"dataframe\">\n",
       "  <thead>\n",
       "    <tr style=\"text-align: right;\">\n",
       "      <th></th>\n",
       "      <th>date</th>\n",
       "      <th>user_id</th>\n",
       "      <th>behavior_type</th>\n",
       "      <th>action</th>\n",
       "    </tr>\n",
       "  </thead>\n",
       "  <tbody>\n",
       "    <tr>\n",
       "      <th>0</th>\n",
       "      <td>2014-11-18</td>\n",
       "      <td>4913</td>\n",
       "      <td>1</td>\n",
       "      <td>27</td>\n",
       "    </tr>\n",
       "    <tr>\n",
       "      <th>1</th>\n",
       "      <td>2014-11-18</td>\n",
       "      <td>4913</td>\n",
       "      <td>2</td>\n",
       "      <td>1</td>\n",
       "    </tr>\n",
       "    <tr>\n",
       "      <th>2</th>\n",
       "      <td>2014-11-18</td>\n",
       "      <td>7591</td>\n",
       "      <td>1</td>\n",
       "      <td>4</td>\n",
       "    </tr>\n",
       "    <tr>\n",
       "      <th>3</th>\n",
       "      <td>2014-11-18</td>\n",
       "      <td>12645</td>\n",
       "      <td>1</td>\n",
       "      <td>25</td>\n",
       "    </tr>\n",
       "    <tr>\n",
       "      <th>4</th>\n",
       "      <td>2014-11-18</td>\n",
       "      <td>54056</td>\n",
       "      <td>1</td>\n",
       "      <td>13</td>\n",
       "    </tr>\n",
       "  </tbody>\n",
       "</table>\n",
       "</div>"
      ],
      "text/plain": [
       "         date  user_id  behavior_type  action\n",
       "0  2014-11-18     4913              1      27\n",
       "1  2014-11-18     4913              2       1\n",
       "2  2014-11-18     7591              1       4\n",
       "3  2014-11-18    12645              1      25\n",
       "4  2014-11-18    54056              1      13"
      ]
     },
     "execution_count": 27,
     "metadata": {},
     "output_type": "execute_result"
    }
   ],
   "source": [
    "df_arpu = df.groupby(['date','user_id','behavior_type']).size().reset_index(name='action')\n",
    "df_arpu.head(5)                                                                           "
   ]
  },
  {
   "cell_type": "code",
   "execution_count": 28,
   "id": "6e211e09-f963-47f1-8799-aba690b2fe29",
   "metadata": {},
   "outputs": [
    {
     "name": "stderr",
     "output_type": "stream",
     "text": [
      "C:\\Users\\21369\\AppData\\Local\\Temp\\ipykernel_41136\\1663278169.py:2: FutureWarning: DataFrameGroupBy.apply operated on the grouping columns. This behavior is deprecated, and in a future version of pandas the grouping columns will be excluded from the operation. Either pass `include_groups=False` to exclude the groupings or explicitly select the grouping columns after groupby to silence this warning.\n",
      "  arpu = df_arpu.groupby('date').apply(lambda x:x[x['behavior_type']==4]['action'].sum() / x['user_id'].nunique()).reset_index(name='arpu')\n"
     ]
    },
    {
     "data": {
      "text/html": [
       "<div>\n",
       "<style scoped>\n",
       "    .dataframe tbody tr th:only-of-type {\n",
       "        vertical-align: middle;\n",
       "    }\n",
       "\n",
       "    .dataframe tbody tr th {\n",
       "        vertical-align: top;\n",
       "    }\n",
       "\n",
       "    .dataframe thead th {\n",
       "        text-align: right;\n",
       "    }\n",
       "</style>\n",
       "<table border=\"1\" class=\"dataframe\">\n",
       "  <thead>\n",
       "    <tr style=\"text-align: right;\">\n",
       "      <th></th>\n",
       "      <th>date</th>\n",
       "      <th>arpu</th>\n",
       "    </tr>\n",
       "  </thead>\n",
       "  <tbody>\n",
       "    <tr>\n",
       "      <th>0</th>\n",
       "      <td>2014-11-18</td>\n",
       "      <td>0.588050</td>\n",
       "    </tr>\n",
       "    <tr>\n",
       "      <th>1</th>\n",
       "      <td>2014-11-19</td>\n",
       "      <td>0.574143</td>\n",
       "    </tr>\n",
       "    <tr>\n",
       "      <th>2</th>\n",
       "      <td>2014-11-20</td>\n",
       "      <td>0.546660</td>\n",
       "    </tr>\n",
       "    <tr>\n",
       "      <th>3</th>\n",
       "      <td>2014-11-21</td>\n",
       "      <td>0.481358</td>\n",
       "    </tr>\n",
       "    <tr>\n",
       "      <th>4</th>\n",
       "      <td>2014-11-22</td>\n",
       "      <td>0.577016</td>\n",
       "    </tr>\n",
       "  </tbody>\n",
       "</table>\n",
       "</div>"
      ],
      "text/plain": [
       "         date      arpu\n",
       "0  2014-11-18  0.588050\n",
       "1  2014-11-19  0.574143\n",
       "2  2014-11-20  0.546660\n",
       "3  2014-11-21  0.481358\n",
       "4  2014-11-22  0.577016"
      ]
     },
     "execution_count": 28,
     "metadata": {},
     "output_type": "execute_result"
    }
   ],
   "source": [
    "# 计算ARPU 公式 ：ARPU = 每日消费总次数 / 每日活跃总人数\n",
    "arpu = df_arpu.groupby('date').apply(lambda x:x[x['behavior_type']==4]['action'].sum() / x['user_id'].nunique()).reset_index(name='arpu')\n",
    "arpu.head(5)"
   ]
  },
  {
   "cell_type": "code",
   "execution_count": 29,
   "id": "206a75a3-90cc-4a83-9ebd-e4ed5ca613aa",
   "metadata": {},
   "outputs": [
    {
     "data": {
      "text/plain": [
       "Text(0.5, 1.0, 'ARPU')"
      ]
     },
     "execution_count": 29,
     "metadata": {},
     "output_type": "execute_result"
    },
    {
     "data": {
      "image/png": "[encoded data removed]",
      "text/plain": [
       "<Figure size 640x480 with 1 Axes>"
      ]
     },
     "metadata": {},
     "output_type": "display_data"
    }
   ],
   "source": [
    "arpu.plot(x='date',y='arpu')\n",
    "plt.title('ARPU')"
   ]
  },
  {
   "cell_type": "markdown",
   "id": "edec882d-f315-4f98-998f-3673ecbab380",
   "metadata": {},
   "source": [
    "每日下单率"
   ]
  },
  {
   "cell_type": "code",
   "execution_count": 30,
   "id": "9cdf03e0-ebab-462c-83c1-f4ed7fae100a",
   "metadata": {},
   "outputs": [
    {
     "name": "stderr",
     "output_type": "stream",
     "text": [
      "C:\\Users\\21369\\AppData\\Local\\Temp\\ipykernel_41136\\1196981686.py:1: FutureWarning: DataFrameGroupBy.apply operated on the grouping columns. This behavior is deprecated, and in a future version of pandas the grouping columns will be excluded from the operation. Either pass `include_groups=False` to exclude the groupings or explicitly select the grouping columns after groupby to silence this warning.\n",
      "  order_rate = df_arpu.groupby('date').apply(lambda x:x[x['behavior_type']==4]['user_id'].nunique() / x['user_id'].nunique()).reset_index(name='order_rate')\n"
     ]
    },
    {
     "data": {
      "text/html": [
       "<div>\n",
       "<style scoped>\n",
       "    .dataframe tbody tr th:only-of-type {\n",
       "        vertical-align: middle;\n",
       "    }\n",
       "\n",
       "    .dataframe tbody tr th {\n",
       "        vertical-align: top;\n",
       "    }\n",
       "\n",
       "    .dataframe thead th {\n",
       "        text-align: right;\n",
       "    }\n",
       "</style>\n",
       "<table border=\"1\" class=\"dataframe\">\n",
       "  <thead>\n",
       "    <tr style=\"text-align: right;\">\n",
       "      <th></th>\n",
       "      <th>date</th>\n",
       "      <th>order_rate</th>\n",
       "    </tr>\n",
       "  </thead>\n",
       "  <tbody>\n",
       "    <tr>\n",
       "      <th>0</th>\n",
       "      <td>2014-11-18</td>\n",
       "      <td>0.242630</td>\n",
       "    </tr>\n",
       "    <tr>\n",
       "      <th>1</th>\n",
       "      <td>2014-11-19</td>\n",
       "      <td>0.235358</td>\n",
       "    </tr>\n",
       "    <tr>\n",
       "      <th>2</th>\n",
       "      <td>2014-11-20</td>\n",
       "      <td>0.235591</td>\n",
       "    </tr>\n",
       "    <tr>\n",
       "      <th>3</th>\n",
       "      <td>2014-11-21</td>\n",
       "      <td>0.211918</td>\n",
       "    </tr>\n",
       "    <tr>\n",
       "      <th>4</th>\n",
       "      <td>2014-11-22</td>\n",
       "      <td>0.228059</td>\n",
       "    </tr>\n",
       "  </tbody>\n",
       "</table>\n",
       "</div>"
      ],
      "text/plain": [
       "         date  order_rate\n",
       "0  2014-11-18    0.242630\n",
       "1  2014-11-19    0.235358\n",
       "2  2014-11-20    0.235591\n",
       "3  2014-11-21    0.211918\n",
       "4  2014-11-22    0.228059"
      ]
     },
     "execution_count": 30,
     "metadata": {},
     "output_type": "execute_result"
    }
   ],
   "source": [
    "order_rate = df_arpu.groupby('date').apply(lambda x:x[x['behavior_type']==4]['user_id'].nunique() / x['user_id'].nunique()).reset_index(name='order_rate')\n",
    "order_rate.head(5)"
   ]
  },
  {
   "cell_type": "code",
   "execution_count": 31,
   "id": "f107c59c-787b-4897-ab10-16c173c369a9",
   "metadata": {},
   "outputs": [
    {
     "data": {
      "text/plain": [
       "<Axes: xlabel='date'>"
      ]
     },
     "execution_count": 31,
     "metadata": {},
     "output_type": "execute_result"
    },
    {
     "data": {
      "image/png": "[encoded data removed]",
      "text/plain": [
       "<Figure size 640x480 with 1 Axes>"
      ]
     },
     "metadata": {},
     "output_type": "display_data"
    }
   ],
   "source": [
    "order_rate.plot(x='date',y='order_rate')"
   ]
  },
  {
   "cell_type": "markdown",
   "id": "16ffdf6d-4be6-4079-84b4-68ede66d2ee5",
   "metadata": {},
   "source": [
    "活跃用户每天平均消费次数在0.5次左右，双十二期间达到最高值接近2，是平时的4倍左右，表明用户会集中在大促日的时候购买\n",
    "从下单率来看，双12的下单率是平时的二倍"
   ]
  },
  {
   "cell_type": "markdown",
   "id": "5a44c950-9fb8-4ebc-a519-46e51cba4ffa",
   "metadata": {},
   "source": [
    "ARPPU分析"
   ]
  },
  {
   "cell_type": "markdown",
   "id": "1b768335-3f3c-490a-b17b-28246d0115ab",
   "metadata": {},
   "source": [
    "计算方式为：ARPPU = 总收入/活跃用户付费数量。但是在该数据集中没有收益金额，因此我们可以对计算方式做一点转化，将总收入转化为总的购买行为次数。\n",
    "\n",
    "定义如下：ARPPU = 当日总消费次数/当日活跃用户付费数量"
   ]
  },
  {
   "cell_type": "code",
   "execution_count": 32,
   "id": "3ffd3723-4c80-487d-b598-1987b5fa8328",
   "metadata": {},
   "outputs": [
    {
     "data": {
      "text/html": [
       "<div>\n",
       "<style scoped>\n",
       "    .dataframe tbody tr th:only-of-type {\n",
       "        vertical-align: middle;\n",
       "    }\n",
       "\n",
       "    .dataframe tbody tr th {\n",
       "        vertical-align: top;\n",
       "    }\n",
       "\n",
       "    .dataframe thead th {\n",
       "        text-align: right;\n",
       "    }\n",
       "</style>\n",
       "<table border=\"1\" class=\"dataframe\">\n",
       "  <thead>\n",
       "    <tr style=\"text-align: right;\">\n",
       "      <th></th>\n",
       "      <th>date</th>\n",
       "      <th>user_id</th>\n",
       "      <th>buy_count</th>\n",
       "    </tr>\n",
       "  </thead>\n",
       "  <tbody>\n",
       "    <tr>\n",
       "      <th>0</th>\n",
       "      <td>2014-11-18</td>\n",
       "      <td>54056</td>\n",
       "      <td>1</td>\n",
       "    </tr>\n",
       "    <tr>\n",
       "      <th>1</th>\n",
       "      <td>2014-11-18</td>\n",
       "      <td>79824</td>\n",
       "      <td>2</td>\n",
       "    </tr>\n",
       "    <tr>\n",
       "      <th>2</th>\n",
       "      <td>2014-11-18</td>\n",
       "      <td>88930</td>\n",
       "      <td>2</td>\n",
       "    </tr>\n",
       "    <tr>\n",
       "      <th>3</th>\n",
       "      <td>2014-11-18</td>\n",
       "      <td>247543</td>\n",
       "      <td>5</td>\n",
       "    </tr>\n",
       "    <tr>\n",
       "      <th>4</th>\n",
       "      <td>2014-11-18</td>\n",
       "      <td>475826</td>\n",
       "      <td>3</td>\n",
       "    </tr>\n",
       "  </tbody>\n",
       "</table>\n",
       "</div>"
      ],
      "text/plain": [
       "         date  user_id  buy_count\n",
       "0  2014-11-18    54056          1\n",
       "1  2014-11-18    79824          2\n",
       "2  2014-11-18    88930          2\n",
       "3  2014-11-18   247543          5\n",
       "4  2014-11-18   475826          3"
      ]
     },
     "execution_count": 32,
     "metadata": {},
     "output_type": "execute_result"
    }
   ],
   "source": [
    "df_arppu = df[df['behavior_type']==4].groupby(['date','user_id'])['behavior_type'].count().reset_index(name='buy_count')\n",
    "df_arppu.head(5)"
   ]
  },
  {
   "cell_type": "code",
   "execution_count": 33,
   "id": "0f7c8fb4-6b08-4802-baaa-028130356b90",
   "metadata": {},
   "outputs": [
    {
     "name": "stderr",
     "output_type": "stream",
     "text": [
      "C:\\Users\\21369\\AppData\\Local\\Temp\\ipykernel_41136\\3580569554.py:1: FutureWarning: DataFrameGroupBy.apply operated on the grouping columns. This behavior is deprecated, and in a future version of pandas the grouping columns will be excluded from the operation. Either pass `include_groups=False` to exclude the groupings or explicitly select the grouping columns after groupby to silence this warning.\n",
      "  arrpu = df_arppu.groupby('date').apply(lambda x:x['buy_count'].sum()/x['user_id'].count()).reset_index(name='arrpu')\n"
     ]
    },
    {
     "data": {
      "text/html": [
       "<div>\n",
       "<style scoped>\n",
       "    .dataframe tbody tr th:only-of-type {\n",
       "        vertical-align: middle;\n",
       "    }\n",
       "\n",
       "    .dataframe tbody tr th {\n",
       "        vertical-align: top;\n",
       "    }\n",
       "\n",
       "    .dataframe thead th {\n",
       "        text-align: right;\n",
       "    }\n",
       "</style>\n",
       "<table border=\"1\" class=\"dataframe\">\n",
       "  <thead>\n",
       "    <tr style=\"text-align: right;\">\n",
       "      <th></th>\n",
       "      <th>date</th>\n",
       "      <th>arrpu</th>\n",
       "    </tr>\n",
       "  </thead>\n",
       "  <tbody>\n",
       "    <tr>\n",
       "      <th>0</th>\n",
       "      <td>2014-11-18</td>\n",
       "      <td>2.423652</td>\n",
       "    </tr>\n",
       "    <tr>\n",
       "      <th>1</th>\n",
       "      <td>2014-11-19</td>\n",
       "      <td>2.439444</td>\n",
       "    </tr>\n",
       "    <tr>\n",
       "      <th>2</th>\n",
       "      <td>2014-11-20</td>\n",
       "      <td>2.320375</td>\n",
       "    </tr>\n",
       "    <tr>\n",
       "      <th>3</th>\n",
       "      <td>2014-11-21</td>\n",
       "      <td>2.271429</td>\n",
       "    </tr>\n",
       "    <tr>\n",
       "      <th>4</th>\n",
       "      <td>2014-11-22</td>\n",
       "      <td>2.530120</td>\n",
       "    </tr>\n",
       "  </tbody>\n",
       "</table>\n",
       "</div>"
      ],
      "text/plain": [
       "         date     arrpu\n",
       "0  2014-11-18  2.423652\n",
       "1  2014-11-19  2.439444\n",
       "2  2014-11-20  2.320375\n",
       "3  2014-11-21  2.271429\n",
       "4  2014-11-22  2.530120"
      ]
     },
     "execution_count": 33,
     "metadata": {},
     "output_type": "execute_result"
    }
   ],
   "source": [
    "arrpu = df_arppu.groupby('date').apply(lambda x:x['buy_count'].sum()/x['user_id'].count()).reset_index(name='arrpu')\n",
    "arrpu.head(5)"
   ]
  },
  {
   "cell_type": "code",
   "execution_count": 34,
   "id": "b7b7e0c3-39b8-4d40-921c-181d344594a2",
   "metadata": {},
   "outputs": [
    {
     "data": {
      "text/plain": [
       "<Axes: xlabel='date'>"
      ]
     },
     "execution_count": 34,
     "metadata": {},
     "output_type": "execute_result"
    },
    {
     "data": {
      "image/png": "[encoded data removed]",
      "text/plain": [
       "<Figure size 640x480 with 1 Axes>"
      ]
     },
     "metadata": {},
     "output_type": "display_data"
    }
   ],
   "source": [
    "arrpu.plot(x='date',y='arrpu')"
   ]
  },
  {
   "cell_type": "markdown",
   "id": "07f91d78-ae37-44a2-af7e-2de415cbdd53",
   "metadata": {},
   "source": [
    "平均每日消费次数在2-2.5次之间波动，双十二当天该数值达超过3.75，一个可能的原因是用户会在平时把喜欢的商品进行加购，等到双十二促销当天再下单购买。"
   ]
  },
  {
   "cell_type": "markdown",
   "id": "b9eba857-26e1-472a-b83f-e99390c32019",
   "metadata": {},
   "source": [
    "# 复购情况分析"
   ]
  },
  {
   "cell_type": "markdown",
   "id": "fd8c688a-4cf6-4645-a3b5-66533d8bfde1",
   "metadata": {},
   "source": [
    "复购率 = 复购用户数量 / 有购买行为的用户数量"
   ]
  },
  {
   "cell_type": "code",
   "execution_count": 35,
   "id": "e6cbb895-952f-4811-9d92-282c45d60971",
   "metadata": {},
   "outputs": [
    {
     "data": {
      "text/html": [
       "<div>\n",
       "<style scoped>\n",
       "    .dataframe tbody tr th:only-of-type {\n",
       "        vertical-align: middle;\n",
       "    }\n",
       "\n",
       "    .dataframe tbody tr th {\n",
       "        vertical-align: top;\n",
       "    }\n",
       "\n",
       "    .dataframe thead th {\n",
       "        text-align: right;\n",
       "    }\n",
       "</style>\n",
       "<table border=\"1\" class=\"dataframe\">\n",
       "  <thead>\n",
       "    <tr style=\"text-align: right;\">\n",
       "      <th></th>\n",
       "      <th>user_id</th>\n",
       "      <th>count</th>\n",
       "    </tr>\n",
       "  </thead>\n",
       "  <tbody>\n",
       "    <tr>\n",
       "      <th>0</th>\n",
       "      <td>4913</td>\n",
       "      <td>5</td>\n",
       "    </tr>\n",
       "    <tr>\n",
       "      <th>1</th>\n",
       "      <td>6118</td>\n",
       "      <td>1</td>\n",
       "    </tr>\n",
       "    <tr>\n",
       "      <th>2</th>\n",
       "      <td>7528</td>\n",
       "      <td>6</td>\n",
       "    </tr>\n",
       "    <tr>\n",
       "      <th>3</th>\n",
       "      <td>7591</td>\n",
       "      <td>9</td>\n",
       "    </tr>\n",
       "    <tr>\n",
       "      <th>4</th>\n",
       "      <td>12645</td>\n",
       "      <td>4</td>\n",
       "    </tr>\n",
       "  </tbody>\n",
       "</table>\n",
       "</div>"
      ],
      "text/plain": [
       "   user_id  count\n",
       "0     4913      5\n",
       "1     6118      1\n",
       "2     7528      6\n",
       "3     7591      9\n",
       "4    12645      4"
      ]
     },
     "execution_count": 35,
     "metadata": {},
     "output_type": "execute_result"
    }
   ],
   "source": [
    "df_pay = df[df['behavior_type']==4]\n",
    "df_pay = df_pay.groupby('user_id')['date'].nunique().reset_index(name='count')\n",
    "df_pay.head()"
   ]
  },
  {
   "cell_type": "code",
   "execution_count": 36,
   "id": "7542ad04-5099-4cd4-83b6-59a51e348c33",
   "metadata": {},
   "outputs": [
    {
     "data": {
      "text/plain": [
       "np.float64(0.8717083051991897)"
      ]
     },
     "execution_count": 36,
     "metadata": {},
     "output_type": "execute_result"
    }
   ],
   "source": [
    "repeat_buy_ratio = df_pay[df_pay['count']>1]['count'].count()/df_pay['count'].count()\n",
    "repeat_buy_ratio"
   ]
  },
  {
   "cell_type": "markdown",
   "id": "ab7485cc-eb55-4641-82e9-6bb3ebe61861",
   "metadata": {},
   "source": [
    "在这个月中，复购率为0.87"
   ]
  },
  {
   "cell_type": "markdown",
   "id": "8107aad8-5195-4fcb-bb17-f9558e4de0bb",
   "metadata": {},
   "source": [
    "# 复购周期分析"
   ]
  },
  {
   "cell_type": "code",
   "execution_count": 37,
   "id": "19cfad05-4d65-46e5-bf98-03d78cf1e051",
   "metadata": {},
   "outputs": [
    {
     "data": {
      "text/html": [
       "<div>\n",
       "<style scoped>\n",
       "    .dataframe tbody tr th:only-of-type {\n",
       "        vertical-align: middle;\n",
       "    }\n",
       "\n",
       "    .dataframe tbody tr th {\n",
       "        vertical-align: top;\n",
       "    }\n",
       "\n",
       "    .dataframe thead th {\n",
       "        text-align: right;\n",
       "    }\n",
       "</style>\n",
       "<table border=\"1\" class=\"dataframe\">\n",
       "  <thead>\n",
       "    <tr style=\"text-align: right;\">\n",
       "      <th></th>\n",
       "      <th>user_id</th>\n",
       "      <th>date</th>\n",
       "      <th>behavior_type</th>\n",
       "    </tr>\n",
       "  </thead>\n",
       "  <tbody>\n",
       "    <tr>\n",
       "      <th>0</th>\n",
       "      <td>4913</td>\n",
       "      <td>2014-12-01</td>\n",
       "      <td>1</td>\n",
       "    </tr>\n",
       "    <tr>\n",
       "      <th>1</th>\n",
       "      <td>4913</td>\n",
       "      <td>2014-12-07</td>\n",
       "      <td>2</td>\n",
       "    </tr>\n",
       "    <tr>\n",
       "      <th>2</th>\n",
       "      <td>4913</td>\n",
       "      <td>2014-12-11</td>\n",
       "      <td>1</td>\n",
       "    </tr>\n",
       "    <tr>\n",
       "      <th>3</th>\n",
       "      <td>4913</td>\n",
       "      <td>2014-12-13</td>\n",
       "      <td>1</td>\n",
       "    </tr>\n",
       "    <tr>\n",
       "      <th>4</th>\n",
       "      <td>4913</td>\n",
       "      <td>2014-12-16</td>\n",
       "      <td>1</td>\n",
       "    </tr>\n",
       "  </tbody>\n",
       "</table>\n",
       "</div>"
      ],
      "text/plain": [
       "   user_id        date  behavior_type\n",
       "0     4913  2014-12-01              1\n",
       "1     4913  2014-12-07              2\n",
       "2     4913  2014-12-11              1\n",
       "3     4913  2014-12-13              1\n",
       "4     4913  2014-12-16              1"
      ]
     },
     "execution_count": 37,
     "metadata": {},
     "output_type": "execute_result"
    }
   ],
   "source": [
    "df_buy = df[df['behavior_type']==4].groupby(['user_id','date'])['behavior_type'].count().reset_index()\n",
    "df_buy.head(5)"
   ]
  },
  {
   "cell_type": "code",
   "execution_count": 38,
   "id": "04265be7-3140-4c2d-8a16-6d5e58d24466",
   "metadata": {},
   "outputs": [
    {
     "data": {
      "text/html": [
       "<div>\n",
       "<style scoped>\n",
       "    .dataframe tbody tr th:only-of-type {\n",
       "        vertical-align: middle;\n",
       "    }\n",
       "\n",
       "    .dataframe tbody tr th {\n",
       "        vertical-align: top;\n",
       "    }\n",
       "\n",
       "    .dataframe thead th {\n",
       "        text-align: right;\n",
       "    }\n",
       "</style>\n",
       "<table border=\"1\" class=\"dataframe\">\n",
       "  <thead>\n",
       "    <tr style=\"text-align: right;\">\n",
       "      <th></th>\n",
       "      <th>user_id</th>\n",
       "      <th>date</th>\n",
       "      <th>behavior_type</th>\n",
       "      <th>date_diff_days</th>\n",
       "    </tr>\n",
       "  </thead>\n",
       "  <tbody>\n",
       "    <tr>\n",
       "      <th>1</th>\n",
       "      <td>4913</td>\n",
       "      <td>2014-12-07</td>\n",
       "      <td>2</td>\n",
       "      <td>6</td>\n",
       "    </tr>\n",
       "    <tr>\n",
       "      <th>2</th>\n",
       "      <td>4913</td>\n",
       "      <td>2014-12-11</td>\n",
       "      <td>1</td>\n",
       "      <td>4</td>\n",
       "    </tr>\n",
       "    <tr>\n",
       "      <th>3</th>\n",
       "      <td>4913</td>\n",
       "      <td>2014-12-13</td>\n",
       "      <td>1</td>\n",
       "      <td>2</td>\n",
       "    </tr>\n",
       "    <tr>\n",
       "      <th>4</th>\n",
       "      <td>4913</td>\n",
       "      <td>2014-12-16</td>\n",
       "      <td>1</td>\n",
       "      <td>3</td>\n",
       "    </tr>\n",
       "    <tr>\n",
       "      <th>7</th>\n",
       "      <td>7528</td>\n",
       "      <td>2014-11-26</td>\n",
       "      <td>1</td>\n",
       "      <td>4</td>\n",
       "    </tr>\n",
       "    <tr>\n",
       "      <th>...</th>\n",
       "      <td>...</td>\n",
       "      <td>...</td>\n",
       "      <td>...</td>\n",
       "      <td>...</td>\n",
       "    </tr>\n",
       "    <tr>\n",
       "      <th>49196</th>\n",
       "      <td>142455899</td>\n",
       "      <td>2014-11-24</td>\n",
       "      <td>1</td>\n",
       "      <td>2</td>\n",
       "    </tr>\n",
       "    <tr>\n",
       "      <th>49197</th>\n",
       "      <td>142455899</td>\n",
       "      <td>2014-11-26</td>\n",
       "      <td>2</td>\n",
       "      <td>2</td>\n",
       "    </tr>\n",
       "    <tr>\n",
       "      <th>49198</th>\n",
       "      <td>142455899</td>\n",
       "      <td>2014-11-30</td>\n",
       "      <td>1</td>\n",
       "      <td>4</td>\n",
       "    </tr>\n",
       "    <tr>\n",
       "      <th>49199</th>\n",
       "      <td>142455899</td>\n",
       "      <td>2014-12-03</td>\n",
       "      <td>1</td>\n",
       "      <td>3</td>\n",
       "    </tr>\n",
       "    <tr>\n",
       "      <th>49200</th>\n",
       "      <td>142455899</td>\n",
       "      <td>2014-12-04</td>\n",
       "      <td>2</td>\n",
       "      <td>1</td>\n",
       "    </tr>\n",
       "  </tbody>\n",
       "</table>\n",
       "<p>40315 rows × 4 columns</p>\n",
       "</div>"
      ],
      "text/plain": [
       "         user_id       date  behavior_type  date_diff_days\n",
       "1           4913 2014-12-07              2               6\n",
       "2           4913 2014-12-11              1               4\n",
       "3           4913 2014-12-13              1               2\n",
       "4           4913 2014-12-16              1               3\n",
       "7           7528 2014-11-26              1               4\n",
       "...          ...        ...            ...             ...\n",
       "49196  142455899 2014-11-24              1               2\n",
       "49197  142455899 2014-11-26              2               2\n",
       "49198  142455899 2014-11-30              1               4\n",
       "49199  142455899 2014-12-03              1               3\n",
       "49200  142455899 2014-12-04              2               1\n",
       "\n",
       "[40315 rows x 4 columns]"
      ]
     },
     "execution_count": 38,
     "metadata": {},
     "output_type": "execute_result"
    }
   ],
   "source": [
    "df_buy['date'] = pd.to_datetime(df_buy['date'])\n",
    "df_buy['date_diff_days'] = df_buy.groupby('user_id')['date'].diff(1)\n",
    "df_buy = df_buy.dropna(subset=['date_diff_days'])\n",
    "df_buy['date_diff_days'] = df_buy.loc[:,'date_diff_days'].dt.days\n",
    "df_buy"
   ]
  },
  {
   "cell_type": "code",
   "execution_count": 39,
   "id": "e23a64b2-4caa-47f1-9e8e-2cd8c52a4e12",
   "metadata": {},
   "outputs": [
    {
     "data": {
      "text/plain": [
       "<Axes: xlabel='date_diff_days'>"
      ]
     },
     "execution_count": 39,
     "metadata": {},
     "output_type": "execute_result"
    },
    {
     "data": {
      "image/png": "[encoded data removed]",
      "text/plain": [
       "<Figure size 640x480 with 1 Axes>"
      ]
     },
     "metadata": {},
     "output_type": "display_data"
    }
   ],
   "source": [
    "df_buy['date_diff_days'].value_counts().plot()"
   ]
  },
  {
   "cell_type": "markdown",
   "id": "5cccb9dd-92b0-4c32-908f-ee51c1fd1aa3",
   "metadata": {},
   "source": [
    "大部分用户的复购行为发生在5天之内，在第5天复购的行为出现了明显的拐点，如果这个时候采取营销策略提升用户的购买意图，增加更多收益。超过15天后，复购的意愿基本已经趋于0，此时可以考虑采取一些召回策略，增加复购的可能性，防止用户的流失。"
   ]
  },
  {
   "cell_type": "markdown",
   "id": "b244f867-c192-4b15-9c92-c2ba4c6a675e",
   "metadata": {},
   "source": [
    "## 商品维度分析"
   ]
  },
  {
   "cell_type": "code",
   "execution_count": 40,
   "id": "d1d68099-d668-45b9-8394-d8624a172566",
   "metadata": {},
   "outputs": [
    {
     "data": {
      "text/html": [
       "<div>\n",
       "<style scoped>\n",
       "    .dataframe tbody tr th:only-of-type {\n",
       "        vertical-align: middle;\n",
       "    }\n",
       "\n",
       "    .dataframe tbody tr th {\n",
       "        vertical-align: top;\n",
       "    }\n",
       "\n",
       "    .dataframe thead th {\n",
       "        text-align: right;\n",
       "    }\n",
       "</style>\n",
       "<table border=\"1\" class=\"dataframe\">\n",
       "  <thead>\n",
       "    <tr style=\"text-align: right;\">\n",
       "      <th></th>\n",
       "      <th>item_id</th>\n",
       "      <th>1</th>\n",
       "      <th>2</th>\n",
       "      <th>3</th>\n",
       "      <th>4</th>\n",
       "    </tr>\n",
       "  </thead>\n",
       "  <tbody>\n",
       "    <tr>\n",
       "      <th>0</th>\n",
       "      <td>64</td>\n",
       "      <td>2.0</td>\n",
       "      <td>NaN</td>\n",
       "      <td>NaN</td>\n",
       "      <td>NaN</td>\n",
       "    </tr>\n",
       "    <tr>\n",
       "      <th>1</th>\n",
       "      <td>496</td>\n",
       "      <td>2.0</td>\n",
       "      <td>NaN</td>\n",
       "      <td>NaN</td>\n",
       "      <td>NaN</td>\n",
       "    </tr>\n",
       "    <tr>\n",
       "      <th>2</th>\n",
       "      <td>528</td>\n",
       "      <td>2.0</td>\n",
       "      <td>NaN</td>\n",
       "      <td>NaN</td>\n",
       "      <td>NaN</td>\n",
       "    </tr>\n",
       "    <tr>\n",
       "      <th>3</th>\n",
       "      <td>579</td>\n",
       "      <td>2.0</td>\n",
       "      <td>NaN</td>\n",
       "      <td>NaN</td>\n",
       "      <td>NaN</td>\n",
       "    </tr>\n",
       "    <tr>\n",
       "      <th>4</th>\n",
       "      <td>581</td>\n",
       "      <td>4.0</td>\n",
       "      <td>NaN</td>\n",
       "      <td>NaN</td>\n",
       "      <td>NaN</td>\n",
       "    </tr>\n",
       "  </tbody>\n",
       "</table>\n",
       "</div>"
      ],
      "text/plain": [
       "   item_id    1   2   3   4\n",
       "0       64  2.0 NaN NaN NaN\n",
       "1      496  2.0 NaN NaN NaN\n",
       "2      528  2.0 NaN NaN NaN\n",
       "3      579  2.0 NaN NaN NaN\n",
       "4      581  4.0 NaN NaN NaN"
      ]
     },
     "execution_count": 40,
     "metadata": {},
     "output_type": "execute_result"
    }
   ],
   "source": [
    "item = df.pivot_table(index='item_id',columns='behavior_type',values='user_id',aggfunc='count')\n",
    "item.columns.name=None\n",
    "item = item.reset_index()\n",
    "item.head()"
   ]
  },
  {
   "cell_type": "code",
   "execution_count": 41,
   "id": "f7997bb0-1661-4373-825f-abd754f38bdb",
   "metadata": {},
   "outputs": [
    {
     "data": {
      "text/html": [
       "<div>\n",
       "<style scoped>\n",
       "    .dataframe tbody tr th:only-of-type {\n",
       "        vertical-align: middle;\n",
       "    }\n",
       "\n",
       "    .dataframe tbody tr th {\n",
       "        vertical-align: top;\n",
       "    }\n",
       "\n",
       "    .dataframe thead th {\n",
       "        text-align: right;\n",
       "    }\n",
       "</style>\n",
       "<table border=\"1\" class=\"dataframe\">\n",
       "  <thead>\n",
       "    <tr style=\"text-align: right;\">\n",
       "      <th></th>\n",
       "      <th>item_id</th>\n",
       "    </tr>\n",
       "  </thead>\n",
       "  <tbody>\n",
       "    <tr>\n",
       "      <th>803231</th>\n",
       "      <td>112921337</td>\n",
       "    </tr>\n",
       "    <tr>\n",
       "      <th>694445</th>\n",
       "      <td>97655171</td>\n",
       "    </tr>\n",
       "    <tr>\n",
       "      <th>2758493</th>\n",
       "      <td>387911330</td>\n",
       "    </tr>\n",
       "    <tr>\n",
       "      <th>960291</th>\n",
       "      <td>135104537</td>\n",
       "    </tr>\n",
       "    <tr>\n",
       "      <th>15965</th>\n",
       "      <td>2217535</td>\n",
       "    </tr>\n",
       "    <tr>\n",
       "      <th>40785</th>\n",
       "      <td>5685392</td>\n",
       "    </tr>\n",
       "    <tr>\n",
       "      <th>911711</th>\n",
       "      <td>128186279</td>\n",
       "    </tr>\n",
       "    <tr>\n",
       "      <th>1976225</th>\n",
       "      <td>277922302</td>\n",
       "    </tr>\n",
       "    <tr>\n",
       "      <th>100264</th>\n",
       "      <td>14087919</td>\n",
       "    </tr>\n",
       "    <tr>\n",
       "      <th>1488679</th>\n",
       "      <td>209323160</td>\n",
       "    </tr>\n",
       "  </tbody>\n",
       "</table>\n",
       "</div>"
      ],
      "text/plain": [
       "           item_id\n",
       "803231   112921337\n",
       "694445    97655171\n",
       "2758493  387911330\n",
       "960291   135104537\n",
       "15965      2217535\n",
       "40785      5685392\n",
       "911711   128186279\n",
       "1976225  277922302\n",
       "100264    14087919\n",
       "1488679  209323160"
      ]
     },
     "execution_count": 41,
     "metadata": {},
     "output_type": "execute_result"
    }
   ],
   "source": [
    "# 浏览量最大的前10名\n",
    "item_click = item.sort_values(1,ascending=False)\n",
    "item_click[['item_id']].head(10)"
   ]
  },
  {
   "cell_type": "code",
   "execution_count": 42,
   "id": "705e98b8-dcac-4b62-aeef-ae3098780e50",
   "metadata": {},
   "outputs": [
    {
     "data": {
      "text/html": [
       "<div>\n",
       "<style scoped>\n",
       "    .dataframe tbody tr th:only-of-type {\n",
       "        vertical-align: middle;\n",
       "    }\n",
       "\n",
       "    .dataframe tbody tr th {\n",
       "        vertical-align: top;\n",
       "    }\n",
       "\n",
       "    .dataframe thead th {\n",
       "        text-align: right;\n",
       "    }\n",
       "</style>\n",
       "<table border=\"1\" class=\"dataframe\">\n",
       "  <thead>\n",
       "    <tr style=\"text-align: right;\">\n",
       "      <th></th>\n",
       "      <th>item_id</th>\n",
       "    </tr>\n",
       "  </thead>\n",
       "  <tbody>\n",
       "    <tr>\n",
       "      <th>2156381</th>\n",
       "      <td>303205878</td>\n",
       "    </tr>\n",
       "    <tr>\n",
       "      <th>100264</th>\n",
       "      <td>14087919</td>\n",
       "    </tr>\n",
       "    <tr>\n",
       "      <th>818835</th>\n",
       "      <td>115124482</td>\n",
       "    </tr>\n",
       "    <tr>\n",
       "      <th>1728268</th>\n",
       "      <td>243091690</td>\n",
       "    </tr>\n",
       "    <tr>\n",
       "      <th>1188146</th>\n",
       "      <td>167074648</td>\n",
       "    </tr>\n",
       "    <tr>\n",
       "      <th>777261</th>\n",
       "      <td>109259240</td>\n",
       "    </tr>\n",
       "    <tr>\n",
       "      <th>909780</th>\n",
       "      <td>127914633</td>\n",
       "    </tr>\n",
       "    <tr>\n",
       "      <th>724135</th>\n",
       "      <td>101795752</td>\n",
       "    </tr>\n",
       "    <tr>\n",
       "      <th>2661308</th>\n",
       "      <td>374214353</td>\n",
       "    </tr>\n",
       "    <tr>\n",
       "      <th>1255692</th>\n",
       "      <td>176556528</td>\n",
       "    </tr>\n",
       "  </tbody>\n",
       "</table>\n",
       "</div>"
      ],
      "text/plain": [
       "           item_id\n",
       "2156381  303205878\n",
       "100264    14087919\n",
       "818835   115124482\n",
       "1728268  243091690\n",
       "1188146  167074648\n",
       "777261   109259240\n",
       "909780   127914633\n",
       "724135   101795752\n",
       "2661308  374214353\n",
       "1255692  176556528"
      ]
     },
     "execution_count": 42,
     "metadata": {},
     "output_type": "execute_result"
    }
   ],
   "source": [
    "# 购买量最多的前10名\n",
    "item_buy = item.sort_values(4,ascending=False)\n",
    "item_buy[['item_id']].head(10)"
   ]
  },
  {
   "cell_type": "code",
   "execution_count": 43,
   "id": "97b87736-245c-4575-8cec-d3267ca5f80a",
   "metadata": {},
   "outputs": [
    {
     "data": {
      "text/html": [
       "<div>\n",
       "<style scoped>\n",
       "    .dataframe tbody tr th:only-of-type {\n",
       "        vertical-align: middle;\n",
       "    }\n",
       "\n",
       "    .dataframe tbody tr th {\n",
       "        vertical-align: top;\n",
       "    }\n",
       "\n",
       "    .dataframe thead th {\n",
       "        text-align: right;\n",
       "    }\n",
       "</style>\n",
       "<table border=\"1\" class=\"dataframe\">\n",
       "  <thead>\n",
       "    <tr style=\"text-align: right;\">\n",
       "      <th></th>\n",
       "      <th>item_id</th>\n",
       "    </tr>\n",
       "  </thead>\n",
       "  <tbody>\n",
       "    <tr>\n",
       "      <th>1976225</th>\n",
       "      <td>277922302</td>\n",
       "    </tr>\n",
       "    <tr>\n",
       "      <th>2395708</th>\n",
       "      <td>336964100</td>\n",
       "    </tr>\n",
       "    <tr>\n",
       "      <th>2691451</th>\n",
       "      <td>378505512</td>\n",
       "    </tr>\n",
       "    <tr>\n",
       "      <th>47968</th>\n",
       "      <td>6703599</td>\n",
       "    </tr>\n",
       "    <tr>\n",
       "      <th>941551</th>\n",
       "      <td>132473636</td>\n",
       "    </tr>\n",
       "    <tr>\n",
       "      <th>2029340</th>\n",
       "      <td>285375507</td>\n",
       "    </tr>\n",
       "    <tr>\n",
       "      <th>707960</th>\n",
       "      <td>99536779</td>\n",
       "    </tr>\n",
       "    <tr>\n",
       "      <th>1679435</th>\n",
       "      <td>236236780</td>\n",
       "    </tr>\n",
       "    <tr>\n",
       "      <th>771063</th>\n",
       "      <td>108385699</td>\n",
       "    </tr>\n",
       "    <tr>\n",
       "      <th>417408</th>\n",
       "      <td>58727293</td>\n",
       "    </tr>\n",
       "  </tbody>\n",
       "</table>\n",
       "</div>"
      ],
      "text/plain": [
       "           item_id\n",
       "1976225  277922302\n",
       "2395708  336964100\n",
       "2691451  378505512\n",
       "47968      6703599\n",
       "941551   132473636\n",
       "2029340  285375507\n",
       "707960    99536779\n",
       "1679435  236236780\n",
       "771063   108385699\n",
       "417408    58727293"
      ]
     },
     "execution_count": 43,
     "metadata": {},
     "output_type": "execute_result"
    }
   ],
   "source": [
    "# 收藏量最大的前10名\n",
    "item_click = item.sort_values(2,ascending=False)\n",
    "item_click[['item_id']].head(10)"
   ]
  },
  {
   "cell_type": "code",
   "execution_count": 44,
   "id": "738653a7-f2aa-49c1-ae7d-8d9aa660bff8",
   "metadata": {},
   "outputs": [
    {
     "data": {
      "text/html": [
       "<div>\n",
       "<style scoped>\n",
       "    .dataframe tbody tr th:only-of-type {\n",
       "        vertical-align: middle;\n",
       "    }\n",
       "\n",
       "    .dataframe tbody tr th {\n",
       "        vertical-align: top;\n",
       "    }\n",
       "\n",
       "    .dataframe thead th {\n",
       "        text-align: right;\n",
       "    }\n",
       "</style>\n",
       "<table border=\"1\" class=\"dataframe\">\n",
       "  <thead>\n",
       "    <tr style=\"text-align: right;\">\n",
       "      <th></th>\n",
       "      <th>item_category</th>\n",
       "      <th>1</th>\n",
       "      <th>2</th>\n",
       "      <th>3</th>\n",
       "      <th>4</th>\n",
       "    </tr>\n",
       "  </thead>\n",
       "  <tbody>\n",
       "    <tr>\n",
       "      <th>0</th>\n",
       "      <td>2</td>\n",
       "      <td>3.0</td>\n",
       "      <td>NaN</td>\n",
       "      <td>NaN</td>\n",
       "      <td>NaN</td>\n",
       "    </tr>\n",
       "    <tr>\n",
       "      <th>1</th>\n",
       "      <td>3</td>\n",
       "      <td>3.0</td>\n",
       "      <td>NaN</td>\n",
       "      <td>NaN</td>\n",
       "      <td>NaN</td>\n",
       "    </tr>\n",
       "    <tr>\n",
       "      <th>2</th>\n",
       "      <td>4</td>\n",
       "      <td>1.0</td>\n",
       "      <td>NaN</td>\n",
       "      <td>NaN</td>\n",
       "      <td>NaN</td>\n",
       "    </tr>\n",
       "    <tr>\n",
       "      <th>3</th>\n",
       "      <td>6</td>\n",
       "      <td>10.0</td>\n",
       "      <td>NaN</td>\n",
       "      <td>NaN</td>\n",
       "      <td>NaN</td>\n",
       "    </tr>\n",
       "    <tr>\n",
       "      <th>4</th>\n",
       "      <td>8</td>\n",
       "      <td>976.0</td>\n",
       "      <td>9.0</td>\n",
       "      <td>4.0</td>\n",
       "      <td>4.0</td>\n",
       "    </tr>\n",
       "  </tbody>\n",
       "</table>\n",
       "</div>"
      ],
      "text/plain": [
       "   item_category      1    2    3    4\n",
       "0              2    3.0  NaN  NaN  NaN\n",
       "1              3    3.0  NaN  NaN  NaN\n",
       "2              4    1.0  NaN  NaN  NaN\n",
       "3              6   10.0  NaN  NaN  NaN\n",
       "4              8  976.0  9.0  4.0  4.0"
      ]
     },
     "execution_count": 44,
     "metadata": {},
     "output_type": "execute_result"
    }
   ],
   "source": [
    "# 购买次数最多的商品类目\n",
    "item_category = df.pivot_table(index='item_category',columns='behavior_type',values='user_id',aggfunc='count')\n",
    "item_category.columns.name=None\n",
    "item_category = item_category.reset_index()\n",
    "item_category.head()"
   ]
  },
  {
   "cell_type": "code",
   "execution_count": 45,
   "id": "1b8fab3a-7e48-4b9c-896e-cb54634224c6",
   "metadata": {},
   "outputs": [
    {
     "data": {
      "text/html": [
       "<div>\n",
       "<style scoped>\n",
       "    .dataframe tbody tr th:only-of-type {\n",
       "        vertical-align: middle;\n",
       "    }\n",
       "\n",
       "    .dataframe tbody tr th {\n",
       "        vertical-align: top;\n",
       "    }\n",
       "\n",
       "    .dataframe thead th {\n",
       "        text-align: right;\n",
       "    }\n",
       "</style>\n",
       "<table border=\"1\" class=\"dataframe\">\n",
       "  <thead>\n",
       "    <tr style=\"text-align: right;\">\n",
       "      <th></th>\n",
       "      <th>item_category</th>\n",
       "    </tr>\n",
       "  </thead>\n",
       "  <tbody>\n",
       "    <tr>\n",
       "      <th>3985</th>\n",
       "      <td>6344</td>\n",
       "    </tr>\n",
       "    <tr>\n",
       "      <th>1136</th>\n",
       "      <td>1863</td>\n",
       "    </tr>\n",
       "    <tr>\n",
       "      <th>3284</th>\n",
       "      <td>5232</td>\n",
       "    </tr>\n",
       "    <tr>\n",
       "      <th>4394</th>\n",
       "      <td>6977</td>\n",
       "    </tr>\n",
       "    <tr>\n",
       "      <th>5579</th>\n",
       "      <td>8877</td>\n",
       "    </tr>\n",
       "    <tr>\n",
       "      <th>4094</th>\n",
       "      <td>6513</td>\n",
       "    </tr>\n",
       "    <tr>\n",
       "      <th>3394</th>\n",
       "      <td>5399</td>\n",
       "    </tr>\n",
       "    <tr>\n",
       "      <th>2132</th>\n",
       "      <td>3424</td>\n",
       "    </tr>\n",
       "    <tr>\n",
       "      <th>2164</th>\n",
       "      <td>3472</td>\n",
       "    </tr>\n",
       "    <tr>\n",
       "      <th>4996</th>\n",
       "      <td>7957</td>\n",
       "    </tr>\n",
       "  </tbody>\n",
       "</table>\n",
       "</div>"
      ],
      "text/plain": [
       "      item_category\n",
       "3985           6344\n",
       "1136           1863\n",
       "3284           5232\n",
       "4394           6977\n",
       "5579           8877\n",
       "4094           6513\n",
       "3394           5399\n",
       "2132           3424\n",
       "2164           3472\n",
       "4996           7957"
      ]
     },
     "execution_count": 45,
     "metadata": {},
     "output_type": "execute_result"
    }
   ],
   "source": [
    "item_buy = item_category.sort_values(4,ascending=False)\n",
    "item_buy[['item_category']].head(10)"
   ]
  },
  {
   "cell_type": "code",
   "execution_count": 59,
   "id": "7da17663-2746-46fc-9d1f-29d2d429f4e3",
   "metadata": {},
   "outputs": [
    {
     "data": {
      "text/html": [
       "<div>\n",
       "<style scoped>\n",
       "    .dataframe tbody tr th:only-of-type {\n",
       "        vertical-align: middle;\n",
       "    }\n",
       "\n",
       "    .dataframe tbody tr th {\n",
       "        vertical-align: top;\n",
       "    }\n",
       "\n",
       "    .dataframe thead th {\n",
       "        text-align: right;\n",
       "    }\n",
       "</style>\n",
       "<table border=\"1\" class=\"dataframe\">\n",
       "  <thead>\n",
       "    <tr style=\"text-align: right;\">\n",
       "      <th></th>\n",
       "      <th>user_id</th>\n",
       "      <th>days</th>\n",
       "      <th>behavior_type_avgcount</th>\n",
       "      <th>ratio_1</th>\n",
       "      <th>ratio_2</th>\n",
       "      <th>ratio_3</th>\n",
       "      <th>ratio_4</th>\n",
       "      <th>buy_count</th>\n",
       "      <th>recent3_days</th>\n",
       "      <th>early_days</th>\n",
       "      <th>late_days</th>\n",
       "      <th>active_trend_ratio</th>\n",
       "      <th>recent5_days</th>\n",
       "      <th>short_long_active_ratio</th>\n",
       "    </tr>\n",
       "  </thead>\n",
       "  <tbody>\n",
       "    <tr>\n",
       "      <th>0</th>\n",
       "      <td>4913</td>\n",
       "      <td>29</td>\n",
       "      <td>60.0</td>\n",
       "      <td>0.951780</td>\n",
       "      <td>0.028129</td>\n",
       "      <td>0.016648</td>\n",
       "      <td>0.003444</td>\n",
       "      <td>6.0</td>\n",
       "      <td>3.0</td>\n",
       "      <td>14.0</td>\n",
       "      <td>15.0</td>\n",
       "      <td>1.000000</td>\n",
       "      <td>5.0</td>\n",
       "      <td>0.500000</td>\n",
       "    </tr>\n",
       "    <tr>\n",
       "      <th>1</th>\n",
       "      <td>6118</td>\n",
       "      <td>12</td>\n",
       "      <td>10.0</td>\n",
       "      <td>0.957265</td>\n",
       "      <td>0.034188</td>\n",
       "      <td>0.000000</td>\n",
       "      <td>0.008547</td>\n",
       "      <td>1.0</td>\n",
       "      <td>3.0</td>\n",
       "      <td>5.0</td>\n",
       "      <td>7.0</td>\n",
       "      <td>1.166667</td>\n",
       "      <td>5.0</td>\n",
       "      <td>0.500000</td>\n",
       "    </tr>\n",
       "    <tr>\n",
       "      <th>2</th>\n",
       "      <td>7528</td>\n",
       "      <td>15</td>\n",
       "      <td>14.0</td>\n",
       "      <td>0.855140</td>\n",
       "      <td>0.004673</td>\n",
       "      <td>0.112150</td>\n",
       "      <td>0.028037</td>\n",
       "      <td>6.0</td>\n",
       "      <td>0.0</td>\n",
       "      <td>9.0</td>\n",
       "      <td>6.0</td>\n",
       "      <td>0.600000</td>\n",
       "      <td>1.0</td>\n",
       "      <td>0.000000</td>\n",
       "    </tr>\n",
       "    <tr>\n",
       "      <th>3</th>\n",
       "      <td>7591</td>\n",
       "      <td>25</td>\n",
       "      <td>34.0</td>\n",
       "      <td>0.959255</td>\n",
       "      <td>0.000000</td>\n",
       "      <td>0.016298</td>\n",
       "      <td>0.024447</td>\n",
       "      <td>21.0</td>\n",
       "      <td>3.0</td>\n",
       "      <td>11.0</td>\n",
       "      <td>14.0</td>\n",
       "      <td>1.166667</td>\n",
       "      <td>5.0</td>\n",
       "      <td>0.500000</td>\n",
       "    </tr>\n",
       "    <tr>\n",
       "      <th>4</th>\n",
       "      <td>12645</td>\n",
       "      <td>20</td>\n",
       "      <td>13.0</td>\n",
       "      <td>0.925373</td>\n",
       "      <td>0.007463</td>\n",
       "      <td>0.037313</td>\n",
       "      <td>0.029851</td>\n",
       "      <td>8.0</td>\n",
       "      <td>3.0</td>\n",
       "      <td>11.0</td>\n",
       "      <td>9.0</td>\n",
       "      <td>0.750000</td>\n",
       "      <td>5.0</td>\n",
       "      <td>0.500000</td>\n",
       "    </tr>\n",
       "    <tr>\n",
       "      <th>...</th>\n",
       "      <td>...</td>\n",
       "      <td>...</td>\n",
       "      <td>...</td>\n",
       "      <td>...</td>\n",
       "      <td>...</td>\n",
       "      <td>...</td>\n",
       "      <td>...</td>\n",
       "      <td>...</td>\n",
       "      <td>...</td>\n",
       "      <td>...</td>\n",
       "      <td>...</td>\n",
       "      <td>...</td>\n",
       "      <td>...</td>\n",
       "      <td>...</td>\n",
       "    </tr>\n",
       "    <tr>\n",
       "      <th>9995</th>\n",
       "      <td>142376113</td>\n",
       "      <td>12</td>\n",
       "      <td>27.0</td>\n",
       "      <td>0.947205</td>\n",
       "      <td>0.003106</td>\n",
       "      <td>0.046584</td>\n",
       "      <td>0.003106</td>\n",
       "      <td>1.0</td>\n",
       "      <td>2.0</td>\n",
       "      <td>5.0</td>\n",
       "      <td>7.0</td>\n",
       "      <td>1.166667</td>\n",
       "      <td>2.0</td>\n",
       "      <td>0.666667</td>\n",
       "    </tr>\n",
       "    <tr>\n",
       "      <th>9996</th>\n",
       "      <td>142412247</td>\n",
       "      <td>25</td>\n",
       "      <td>13.0</td>\n",
       "      <td>0.931343</td>\n",
       "      <td>0.000000</td>\n",
       "      <td>0.032836</td>\n",
       "      <td>0.035821</td>\n",
       "      <td>12.0</td>\n",
       "      <td>1.0</td>\n",
       "      <td>14.0</td>\n",
       "      <td>11.0</td>\n",
       "      <td>0.733333</td>\n",
       "      <td>2.0</td>\n",
       "      <td>0.333333</td>\n",
       "    </tr>\n",
       "    <tr>\n",
       "      <th>9997</th>\n",
       "      <td>142430177</td>\n",
       "      <td>27</td>\n",
       "      <td>55.0</td>\n",
       "      <td>0.961512</td>\n",
       "      <td>0.024983</td>\n",
       "      <td>0.010128</td>\n",
       "      <td>0.003376</td>\n",
       "      <td>5.0</td>\n",
       "      <td>3.0</td>\n",
       "      <td>13.0</td>\n",
       "      <td>14.0</td>\n",
       "      <td>1.000000</td>\n",
       "      <td>5.0</td>\n",
       "      <td>0.500000</td>\n",
       "    </tr>\n",
       "    <tr>\n",
       "      <th>9998</th>\n",
       "      <td>142450275</td>\n",
       "      <td>31</td>\n",
       "      <td>220.0</td>\n",
       "      <td>0.951459</td>\n",
       "      <td>0.010119</td>\n",
       "      <td>0.032556</td>\n",
       "      <td>0.005866</td>\n",
       "      <td>40.0</td>\n",
       "      <td>3.0</td>\n",
       "      <td>16.0</td>\n",
       "      <td>15.0</td>\n",
       "      <td>0.882353</td>\n",
       "      <td>5.0</td>\n",
       "      <td>0.500000</td>\n",
       "    </tr>\n",
       "    <tr>\n",
       "      <th>9999</th>\n",
       "      <td>142455899</td>\n",
       "      <td>20</td>\n",
       "      <td>68.0</td>\n",
       "      <td>0.956329</td>\n",
       "      <td>0.032568</td>\n",
       "      <td>0.001480</td>\n",
       "      <td>0.009623</td>\n",
       "      <td>13.0</td>\n",
       "      <td>0.0</td>\n",
       "      <td>13.0</td>\n",
       "      <td>7.0</td>\n",
       "      <td>0.500000</td>\n",
       "      <td>1.0</td>\n",
       "      <td>0.000000</td>\n",
       "    </tr>\n",
       "  </tbody>\n",
       "</table>\n",
       "<p>10000 rows × 14 columns</p>\n",
       "</div>"
      ],
      "text/plain": [
       "        user_id  days  behavior_type_avgcount   ratio_1   ratio_2   ratio_3  \\\n",
       "0          4913    29                    60.0  0.951780  0.028129  0.016648   \n",
       "1          6118    12                    10.0  0.957265  0.034188  0.000000   \n",
       "2          7528    15                    14.0  0.855140  0.004673  0.112150   \n",
       "3          7591    25                    34.0  0.959255  0.000000  0.016298   \n",
       "4         12645    20                    13.0  0.925373  0.007463  0.037313   \n",
       "...         ...   ...                     ...       ...       ...       ...   \n",
       "9995  142376113    12                    27.0  0.947205  0.003106  0.046584   \n",
       "9996  142412247    25                    13.0  0.931343  0.000000  0.032836   \n",
       "9997  142430177    27                    55.0  0.961512  0.024983  0.010128   \n",
       "9998  142450275    31                   220.0  0.951459  0.010119  0.032556   \n",
       "9999  142455899    20                    68.0  0.956329  0.032568  0.001480   \n",
       "\n",
       "       ratio_4  buy_count  recent3_days  early_days  late_days  \\\n",
       "0     0.003444        6.0           3.0        14.0       15.0   \n",
       "1     0.008547        1.0           3.0         5.0        7.0   \n",
       "2     0.028037        6.0           0.0         9.0        6.0   \n",
       "3     0.024447       21.0           3.0        11.0       14.0   \n",
       "4     0.029851        8.0           3.0        11.0        9.0   \n",
       "...        ...        ...           ...         ...        ...   \n",
       "9995  0.003106        1.0           2.0         5.0        7.0   \n",
       "9996  0.035821       12.0           1.0        14.0       11.0   \n",
       "9997  0.003376        5.0           3.0        13.0       14.0   \n",
       "9998  0.005866       40.0           3.0        16.0       15.0   \n",
       "9999  0.009623       13.0           0.0        13.0        7.0   \n",
       "\n",
       "      active_trend_ratio  recent5_days  short_long_active_ratio  \n",
       "0               1.000000           5.0                 0.500000  \n",
       "1               1.166667           5.0                 0.500000  \n",
       "2               0.600000           1.0                 0.000000  \n",
       "3               1.166667           5.0                 0.500000  \n",
       "4               0.750000           5.0                 0.500000  \n",
       "...                  ...           ...                      ...  \n",
       "9995            1.166667           2.0                 0.666667  \n",
       "9996            0.733333           2.0                 0.333333  \n",
       "9997            1.000000           5.0                 0.500000  \n",
       "9998            0.882353           5.0                 0.500000  \n",
       "9999            0.500000           1.0                 0.000000  \n",
       "\n",
       "[10000 rows x 14 columns]"
      ]
     },
     "execution_count": 59,
     "metadata": {},
     "output_type": "execute_result"
    }
   ],
   "source": [
    "# 日期处理\n",
    "df['date'] = pd.to_datetime(df['date'])\n",
    "max_date = df['date'].max()  # 数据集中的最新日期\n",
    "min_date = df['date'].min()  # 数据集中的最早日期\n",
    "\n",
    "# 定义流失用户：最近7天没有登录\n",
    "last_date = max_date - pd.Timedelta(days=7)\n",
    "user_late_date = df.groupby(['user_id'])['date'].max().reset_index()\n",
    "user_late_date['是否流失'] = (user_late_date['date'] < last_date).astype(int)\n",
    "\n",
    "\n",
    "# 特征1：总活跃天数\n",
    "data1 = df.groupby('user_id')['date'].nunique().reset_index(name='days')\n",
    "\n",
    "# 特征2：平均每日行为次数\n",
    "data2 = df.groupby(['user_id','date'])['behavior_type'].count().reset_index()\n",
    "data2 = data2.groupby('user_id')['behavior_type'].mean().round(0).reset_index()\n",
    "data2.rename({'behavior_type':'behavior_type_avgcount'},axis=1,inplace=True)\n",
    "\n",
    "# 特征3：行为类型占比\n",
    "behavior_counts = df.groupby(['user_id', 'behavior_type']).size().unstack(fill_value=0)\n",
    "behavior_total = behavior_counts.sum(axis=1)\n",
    "behavior_ratio_all = behavior_counts.div(behavior_total, axis=0).reset_index()\n",
    "behavior_ratio_all.columns = ['user_id', 'ratio_1', 'ratio_2', 'ratio_3', 'ratio_4']\n",
    "data3 = behavior_ratio_all\n",
    "\n",
    "# 特征4：购买相关特征\n",
    "data4 = df[df['behavior_type']==4].groupby(['user_id'])['behavior_type'].count().reset_index()\n",
    "data4.rename({'behavior_type':'buy_count'},axis=1,inplace=True)\n",
    "\n",
    "# 特征5：最近3天活跃天数\n",
    "recent_3_date = max_date - pd.Timedelta(days=2)\n",
    "df_recent3 = df[df['date'] >= recent_3_date]\n",
    "data5 = df_recent3.groupby('user_id')['date'].nunique().reset_index(name='recent3_days')\n",
    "data5['recent3_days'] = data5['recent3_days'].fillna(0)  # 未活跃用户填0\n",
    "\n",
    "# 特征6：活跃趋势\n",
    "mid_date = min_date + (max_date - min_date) / 2  # 时间中点\n",
    "df_early = df[df['date'] <= mid_date]  # 前期数据\n",
    "df_late = df[df['date'] > mid_date]    # 后期数据\n",
    "data_early = df_early.groupby('user_id')['date'].nunique().reset_index(name='early_days')\n",
    "data_late = df_late.groupby('user_id')['date'].nunique().reset_index(name='late_days')\n",
    "data6 = pd.merge(data_early, data_late, on='user_id', how='left').fillna(0)\n",
    "data6['active_trend_ratio'] = data6['late_days'] / (data6['early_days'] + 1)  # 后期/前期\n",
    "\n",
    "# 特征7：最近5天活跃天数\n",
    "recent_5_date = max_date - pd.Timedelta(days=4)\n",
    "df_recent5 = df[df['date'] >= recent_5_date]\n",
    "data7 = df_recent5.groupby('user_id')['date'].nunique().reset_index(name='recent5_days')\n",
    "\n",
    "features = data1.merge(data2, how='left', on='user_id')\n",
    "features = features.merge(data3, how='left', on='user_id')\n",
    "features = features.merge(data4, how='left', on='user_id')\n",
    "features = features.merge(data5, how='left', on='user_id')\n",
    "features = features.merge(data6, how='left', on='user_id')\n",
    "features = features.merge(data7, how='left', on='user_id')\n",
    "# 填充缺失值\n",
    "X = features.fillna(0)\n",
    "# 特征8：最近3天 / 最近5天 活跃天数的比值\n",
    "X['short_long_active_ratio'] = X['recent3_days'] / (X['recent5_days'] + 1)\n",
    "# 目标变量\n",
    "y = user_late_date.set_index('user_id')['是否流失']\n",
    "# 确保特征与目标变量用户ID一致\n",
    "X = X.set_index('user_id').join(y, how='inner').reset_index()\n",
    "y = X['是否流失']\n",
    "X = X.drop('是否流失', axis=1)\n",
    "X"
   ]
  },
  {
   "cell_type": "code",
   "execution_count": 60,
   "id": "d89ba9ce-c6ae-4322-b32b-49b357ccdee2",
   "metadata": {},
   "outputs": [
    {
     "name": "stdout",
     "output_type": "stream",
     "text": [
      "准确率为: 0.8771693680875783\n"
     ]
    },
    {
     "data": {
      "image/png": "[encoded data removed]",
      "text/plain": [
       "<Figure size 800x600 with 2 Axes>"
      ]
     },
     "metadata": {},
     "output_type": "display_data"
    },
    {
     "name": "stdout",
     "output_type": "stream",
     "text": [
      "              precision    recall  f1-score   support\n",
      "\n",
      "         未流失       1.00      0.98      0.99      1913\n",
      "          流失       0.66      0.91      0.77        87\n",
      "\n",
      "    accuracy                           0.98      2000\n",
      "   macro avg       0.83      0.94      0.88      2000\n",
      "weighted avg       0.98      0.98      0.98      2000\n",
      "\n",
      "auc指标为: 0.9935558880256683\n"
     ]
    }
   ],
   "source": [
    "# 数据集划分\n",
    "from sklearn.model_selection import train_test_split\n",
    "x_train,x_test,y_train,y_test = train_test_split(X,y,test_size=0.2,random_state=0)\n",
    "# 模型训练：随机森林算法\n",
    "from sklearn.ensemble import RandomForestClassifier\n",
    "estimator = RandomForestClassifier()\n",
    "\n",
    "from imblearn.over_sampling import SMOTE\n",
    "smote = SMOTE(random_state=0)\n",
    "x_train, y_train = smote.fit_resample(x_train, y_train)\n",
    "\n",
    "# 模型调优\n",
    "from sklearn.model_selection  import GridSearchCV\n",
    "param_grid = {\n",
    "    'n_estimators': [50, 100, 200],\n",
    "    'max_depth': [5,10,None],\n",
    "    'min_samples_split': [2, 5, 10],\n",
    "    'min_samples_leaf' : [1,2,4]\n",
    "}\n",
    "\n",
    "estimator = GridSearchCV(estimator=estimator,param_grid=param_grid,cv=5,n_jobs=-1, scoring='f1_macro')\n",
    "# 训练模型\n",
    "estimator.fit(x_train,y_train)\n",
    "# 模型评估\n",
    "predict = estimator.predict(x_test)\n",
    "score = estimator.score(x_test,y_test)\n",
    "print('准确率为:',score)\n",
    "# 混淆矩阵\n",
    "from sklearn.metrics import classification_report,confusion_matrix\n",
    "import seaborn as sns\n",
    "plt.figure(figsize=(8,6,),dpi=100)\n",
    "plt.rcParams[\"font.family\"] = [\"SimHei\"]\n",
    "cm = confusion_matrix(y_test,predict) # 第一个是y轴 第二个是x轴\n",
    "sns.heatmap(cm,annot=True, fmt='d', cmap='Blues',xticklabels=['未流失','流失'],yticklabels=['未流失','流失'])\n",
    "plt.xlabel('预测标签')\n",
    "plt.ylabel('真实标签')\n",
    "plt.title('混淆矩阵')\n",
    "plt.show()\n",
    "# 精确率和召回率\n",
    "report= classification_report(y_test,predict,labels=[0,1],target_names=['未流失','流失'])\n",
    "print(report)\n",
    "# roc曲线 auc指标\n",
    "from sklearn.metrics import roc_auc_score\n",
    "y_pred_proba = estimator.predict_proba(x_test)[:, 1]\n",
    "auc = roc_auc_score(y_test,y_pred_proba)\n",
    "print('auc指标为:',auc)"
   ]
  },
  {
   "cell_type": "code",
   "execution_count": 61,
   "id": "9946d44f-2d2a-4a26-bcfe-bd114a60ac30",
   "metadata": {},
   "outputs": [
    {
     "name": "stdout",
     "output_type": "stream",
     "text": [
      "                         特征       重要性\n",
      "12             recent5_days  0.333951\n",
      "13  short_long_active_ratio  0.189002\n",
      "8              recent3_days  0.178809\n",
      "10                late_days  0.074070\n",
      "1                      days  0.071757\n",
      "11       active_trend_ratio  0.061634\n",
      "9                early_days  0.026897\n",
      "7                 buy_count  0.022673\n",
      "0                   user_id  0.009047\n",
      "2    behavior_type_avgcount  0.007846\n",
      "3                   ratio_1  0.007157\n",
      "5                   ratio_3  0.006782\n",
      "6                   ratio_4  0.006013\n",
      "4                   ratio_2  0.004361\n"
     ]
    }
   ],
   "source": [
    "# 假设estimator是训练好的GridSearchCV对象\n",
    "best_rf = estimator.best_estimator_\n",
    "feature_importance = pd.DataFrame({\n",
    "    '特征': X.columns,\n",
    "    '重要性': best_rf.feature_importances_\n",
    "}).sort_values('重要性', ascending=False)\n",
    "print(feature_importance)"
   ]
  }
 ],
 "metadata": {
  "kernelspec": {
   "display_name": "Python 3 (ipykernel)",
   "language": "python",
   "name": "python3"
  },
  "language_info": {
   "codemirror_mode": {
    "name": "ipython",
    "version": 3
   },
   "file_extension": ".py",
   "mimetype": "text/x-python",
   "name": "python",
   "nbconvert_exporter": "python",
   "pygments_lexer": "ipython3",
   "version": "3.12.8"
  },
  "widgets": {
   "application/vnd.jupyter.widget-state+json": {
    "state": {},
    "version_major": 2,
    "version_minor": 0
   }
  }
 },
 "nbformat": 4,
 "nbformat_minor": 5
}
